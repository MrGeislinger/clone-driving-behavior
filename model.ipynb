{
 "cells": [
  {
   "cell_type": "markdown",
   "metadata": {
    "toc": true
   },
   "source": [
    "<h1>Table of Contents<span class=\"tocSkip\"></span></h1>\n",
    "<div class=\"toc\"><ul class=\"toc-item\"></ul></div>"
   ]
  },
  {
   "cell_type": "code",
   "execution_count": 1,
   "metadata": {
    "ExecuteTime": {
     "end_time": "2020-09-22T07:13:20.678409Z",
     "start_time": "2020-09-22T07:13:19.746158Z"
    }
   },
   "outputs": [],
   "source": [
    "import pandas as pd\n",
    "import numpy as np"
   ]
  },
  {
   "cell_type": "code",
   "execution_count": 2,
   "metadata": {
    "ExecuteTime": {
     "end_time": "2020-09-22T07:13:20.681880Z",
     "start_time": "2020-09-22T07:13:20.679691Z"
    }
   },
   "outputs": [],
   "source": [
    "# Specific for including Kaggle data\n",
    "data_dir = 'data/course1_careful_drive_two_laps/'\n",
    "img_dir = data_dir+'IMG'\n",
    "log_file = data_dir+'driving_log.csv'"
   ]
  },
  {
   "cell_type": "code",
   "execution_count": 3,
   "metadata": {
    "ExecuteTime": {
     "end_time": "2020-09-22T07:13:20.688009Z",
     "start_time": "2020-09-22T07:13:20.683471Z"
    }
   },
   "outputs": [],
   "source": [
    "def create_img_meas_dfs(log_csv, data_dir=None, orig_dir=None):\n",
    "    '''Creates DataFrames for the image paths and measurements using CSV path.\n",
    "    \n",
    "    Returns tuple of two DataFrames.\n",
    "    '''\n",
    "    data_header = [\n",
    "        'image_center',\n",
    "        'image_left',\n",
    "        'image_right',\n",
    "        'steer_angle', # [-1,1]\n",
    "        'throttle', # boolen (if accelerating)\n",
    "        'break', # boolean (if breaking)\n",
    "        'speed' # mph\n",
    "    ]\n",
    "\n",
    "    df = pd.read_csv(\n",
    "        log_csv,\n",
    "        names=data_header\n",
    "    )\n",
    "\n",
    "    # Replace the original directory from dataset (if specified)\n",
    "    if orig_dir and data_dir:\n",
    "        for col in ['image_center','image_left','image_right']:\n",
    "            df[col] = df[col].str.replace(orig_dir,data_dir)\n",
    "    \n",
    "    # Get specifics for each DF\n",
    "    df_img_paths = df.iloc[:,:3]\n",
    "    df_measurments = df.iloc[:,3:]\n",
    "    \n",
    "    return df_img_paths,df_measurments"
   ]
  },
  {
   "cell_type": "code",
   "execution_count": 18,
   "metadata": {
    "ExecuteTime": {
     "end_time": "2020-09-22T07:29:36.574975Z",
     "start_time": "2020-09-22T07:29:36.532010Z"
    }
   },
   "outputs": [
    {
     "name": "stdout",
     "output_type": "stream",
     "text": [
      "Stats for measurements\n"
     ]
    },
    {
     "data": {
      "text/html": [
       "<div>\n",
       "<style scoped>\n",
       "    .dataframe tbody tr th:only-of-type {\n",
       "        vertical-align: middle;\n",
       "    }\n",
       "\n",
       "    .dataframe tbody tr th {\n",
       "        vertical-align: top;\n",
       "    }\n",
       "\n",
       "    .dataframe thead th {\n",
       "        text-align: right;\n",
       "    }\n",
       "</style>\n",
       "<table border=\"1\" class=\"dataframe\">\n",
       "  <thead>\n",
       "    <tr style=\"text-align: right;\">\n",
       "      <th></th>\n",
       "      <th>steer_angle</th>\n",
       "      <th>throttle</th>\n",
       "      <th>break</th>\n",
       "      <th>speed</th>\n",
       "    </tr>\n",
       "  </thead>\n",
       "  <tbody>\n",
       "    <tr>\n",
       "      <td>count</td>\n",
       "      <td>3080.000000</td>\n",
       "      <td>3080.000000</td>\n",
       "      <td>3080.000000</td>\n",
       "      <td>3080.000000</td>\n",
       "    </tr>\n",
       "    <tr>\n",
       "      <td>mean</td>\n",
       "      <td>-0.034572</td>\n",
       "      <td>0.454115</td>\n",
       "      <td>0.001866</td>\n",
       "      <td>25.561160</td>\n",
       "    </tr>\n",
       "    <tr>\n",
       "      <td>std</td>\n",
       "      <td>0.100466</td>\n",
       "      <td>0.453996</td>\n",
       "      <td>0.033968</td>\n",
       "      <td>5.793530</td>\n",
       "    </tr>\n",
       "    <tr>\n",
       "      <td>min</td>\n",
       "      <td>-0.588925</td>\n",
       "      <td>0.000000</td>\n",
       "      <td>0.000000</td>\n",
       "      <td>7.976045</td>\n",
       "    </tr>\n",
       "    <tr>\n",
       "      <td>25%</td>\n",
       "      <td>-0.070427</td>\n",
       "      <td>0.000000</td>\n",
       "      <td>0.000000</td>\n",
       "      <td>23.386255</td>\n",
       "    </tr>\n",
       "    <tr>\n",
       "      <td>50%</td>\n",
       "      <td>-0.025230</td>\n",
       "      <td>0.312749</td>\n",
       "      <td>0.000000</td>\n",
       "      <td>27.891030</td>\n",
       "    </tr>\n",
       "    <tr>\n",
       "      <td>75%</td>\n",
       "      <td>-0.006204</td>\n",
       "      <td>1.000000</td>\n",
       "      <td>0.000000</td>\n",
       "      <td>30.189950</td>\n",
       "    </tr>\n",
       "    <tr>\n",
       "      <td>max</td>\n",
       "      <td>0.491797</td>\n",
       "      <td>1.000000</td>\n",
       "      <td>1.000000</td>\n",
       "      <td>30.335530</td>\n",
       "    </tr>\n",
       "  </tbody>\n",
       "</table>\n",
       "</div>"
      ],
      "text/plain": [
       "       steer_angle     throttle        break        speed\n",
       "count  3080.000000  3080.000000  3080.000000  3080.000000\n",
       "mean     -0.034572     0.454115     0.001866    25.561160\n",
       "std       0.100466     0.453996     0.033968     5.793530\n",
       "min      -0.588925     0.000000     0.000000     7.976045\n",
       "25%      -0.070427     0.000000     0.000000    23.386255\n",
       "50%      -0.025230     0.312749     0.000000    27.891030\n",
       "75%      -0.006204     1.000000     0.000000    30.189950\n",
       "max       0.491797     1.000000     1.000000    30.335530"
      ]
     },
     "metadata": {},
     "output_type": "display_data"
    }
   ],
   "source": [
    "df_imgs, df_meas = create_img_meas_dfs(log_csv=log_file)\n",
    "\n",
    "print('Stats for measurements:')\n",
    "display(df_meas.describe())"
   ]
  }
 ],
 "metadata": {
  "kernelspec": {
   "display_name": "Python 3",
   "language": "python",
   "name": "python3"
  },
  "language_info": {
   "codemirror_mode": {
    "name": "ipython",
    "version": 3
   },
   "file_extension": ".py",
   "mimetype": "text/x-python",
   "name": "python",
   "nbconvert_exporter": "python",
   "pygments_lexer": "ipython3",
   "version": "3.7.4"
  },
  "toc": {
   "base_numbering": 1,
   "nav_menu": {},
   "number_sections": true,
   "sideBar": false,
   "skip_h1_title": false,
   "title_cell": "Table of Contents",
   "title_sidebar": "Contents",
   "toc_cell": true,
   "toc_position": {},
   "toc_section_display": true,
   "toc_window_display": false
  },
  "varInspector": {
   "cols": {
    "lenName": 16,
    "lenType": 16,
    "lenVar": 40
   },
   "kernels_config": {
    "python": {
     "delete_cmd_postfix": "",
     "delete_cmd_prefix": "del ",
     "library": "var_list.py",
     "varRefreshCmd": "print(var_dic_list())"
    },
    "r": {
     "delete_cmd_postfix": ") ",
     "delete_cmd_prefix": "rm(",
     "library": "var_list.r",
     "varRefreshCmd": "cat(var_dic_list()) "
    }
   },
   "types_to_exclude": [
    "module",
    "function",
    "builtin_function_or_method",
    "instance",
    "_Feature"
   ],
   "window_display": false
  }
 },
 "nbformat": 4,
 "nbformat_minor": 4
}
