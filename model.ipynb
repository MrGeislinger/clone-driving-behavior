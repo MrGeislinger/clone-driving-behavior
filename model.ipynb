{
 "cells": [
  {
   "cell_type": "markdown",
   "metadata": {
    "papermill": {
     "duration": 0.045332,
     "end_time": "2020-10-05T04:44:51.716360",
     "exception": false,
     "start_time": "2020-10-05T04:44:51.671028",
     "status": "completed"
    },
    "tags": [],
    "toc": true
   },
   "source": [
    "<h1>Table of Contents<span class=\"tocSkip\"></span></h1>\n",
    "<div class=\"toc\"><ul class=\"toc-item\"><li><span><a href=\"#Load-the-Data\" data-toc-modified-id=\"Load-the-Data-1\"><span class=\"toc-item-num\">1&nbsp;&nbsp;</span>Load the Data</a></span><ul class=\"toc-item\"><li><span><a href=\"#Download-data-(if-needed)\" data-toc-modified-id=\"Download-data-(if-needed)-1.1\"><span class=\"toc-item-num\">1.1&nbsp;&nbsp;</span>Download data (if needed)</a></span></li><li><span><a href=\"#Read-in-log-file\" data-toc-modified-id=\"Read-in-log-file-1.2\"><span class=\"toc-item-num\">1.2&nbsp;&nbsp;</span>Read in log file</a></span></li></ul></li><li><span><a href=\"#Data-Augmentation\" data-toc-modified-id=\"Data-Augmentation-2\"><span class=\"toc-item-num\">2&nbsp;&nbsp;</span>Data Augmentation</a></span><ul class=\"toc-item\"><li><span><a href=\"#Attempt-w/-ImageDataGenerator\" data-toc-modified-id=\"Attempt-w/-ImageDataGenerator-2.1\"><span class=\"toc-item-num\">2.1&nbsp;&nbsp;</span>Attempt w/ <code>ImageDataGenerator</code></a></span></li><li><span><a href=\"#Flip-the-image\" data-toc-modified-id=\"Flip-the-image-2.2\"><span class=\"toc-item-num\">2.2&nbsp;&nbsp;</span>Flip the image</a></span></li><li><span><a href=\"#Adjust-off-center-images\" data-toc-modified-id=\"Adjust-off-center-images-2.3\"><span class=\"toc-item-num\">2.3&nbsp;&nbsp;</span>Adjust off-center images</a></span></li><li><span><a href=\"#Don't-use-some-small-steering-values\" data-toc-modified-id=\"Don't-use-some-small-steering-values-2.4\"><span class=\"toc-item-num\">2.4&nbsp;&nbsp;</span>Don't use some small steering values</a></span></li></ul></li><li><span><a href=\"#Creating-own-generator-to-read-data\" data-toc-modified-id=\"Creating-own-generator-to-read-data-3\"><span class=\"toc-item-num\">3&nbsp;&nbsp;</span>Creating own generator to read data</a></span><ul class=\"toc-item\"><li><span><a href=\"#Read-in-images-by-path-from-log-file\" data-toc-modified-id=\"Read-in-images-by-path-from-log-file-3.1\"><span class=\"toc-item-num\">3.1&nbsp;&nbsp;</span>Read in images by path from log file</a></span></li><li><span><a href=\"#Split-the-data-into-training-and-validation\" data-toc-modified-id=\"Split-the-data-into-training-and-validation-3.2\"><span class=\"toc-item-num\">3.2&nbsp;&nbsp;</span>Split the data into training and validation</a></span><ul class=\"toc-item\"><li><span><a href=\"#Generators-for-both-train-and-validation-sets\" data-toc-modified-id=\"Generators-for-both-train-and-validation-sets-3.2.1\"><span class=\"toc-item-num\">3.2.1&nbsp;&nbsp;</span>Generators for both train and validation sets</a></span></li></ul></li></ul></li><li><span><a href=\"#Model\" data-toc-modified-id=\"Model-4\"><span class=\"toc-item-num\">4&nbsp;&nbsp;</span>Model</a></span><ul class=\"toc-item\"><li><span><a href=\"#Using-center-images-only\" data-toc-modified-id=\"Using-center-images-only-4.1\"><span class=\"toc-item-num\">4.1&nbsp;&nbsp;</span>Using center images only</a></span><ul class=\"toc-item\"><li><span><a href=\"#Evaluation\" data-toc-modified-id=\"Evaluation-4.1.1\"><span class=\"toc-item-num\">4.1.1&nbsp;&nbsp;</span>Evaluation</a></span></li></ul></li></ul></li></ul></div>"
   ]
  },
  {
   "cell_type": "code",
   "execution_count": 1,
   "metadata": {
    "ExecuteTime": {
     "end_time": "2020-10-04T03:34:33.688475Z",
     "start_time": "2020-10-04T03:34:29.764780Z"
    },
    "execution": {
     "iopub.execute_input": "2020-10-05T04:44:51.805745Z",
     "iopub.status.busy": "2020-10-05T04:44:51.804865Z",
     "iopub.status.idle": "2020-10-05T04:44:59.023822Z",
     "shell.execute_reply": "2020-10-05T04:44:59.022898Z"
    },
    "papermill": {
     "duration": 7.265816,
     "end_time": "2020-10-05T04:44:59.023993",
     "exception": false,
     "start_time": "2020-10-05T04:44:51.758177",
     "status": "completed"
    },
    "tags": []
   },
   "outputs": [],
   "source": [
    "import pandas as pd\n",
    "import numpy as np\n",
    "import cv2\n",
    "import sklearn\n",
    "import sklearn.model_selection\n",
    "import tensorflow.keras as keras"
   ]
  },
  {
   "cell_type": "markdown",
   "metadata": {
    "papermill": {
     "duration": 0.039604,
     "end_time": "2020-10-05T04:44:59.104979",
     "exception": false,
     "start_time": "2020-10-05T04:44:59.065375",
     "status": "completed"
    },
    "tags": []
   },
   "source": [
    "# Load the Data"
   ]
  },
  {
   "cell_type": "markdown",
   "metadata": {
    "papermill": {
     "duration": 0.039253,
     "end_time": "2020-10-05T04:44:59.185145",
     "exception": false,
     "start_time": "2020-10-05T04:44:59.145892",
     "status": "completed"
    },
    "tags": []
   },
   "source": [
    "We'll load the log data & also load the images (found in the log file)."
   ]
  },
  {
   "cell_type": "markdown",
   "metadata": {
    "papermill": {
     "duration": 0.040663,
     "end_time": "2020-10-05T04:44:59.267571",
     "exception": false,
     "start_time": "2020-10-05T04:44:59.226908",
     "status": "completed"
    },
    "tags": []
   },
   "source": [
    "## Download data (if needed)"
   ]
  },
  {
   "cell_type": "code",
   "execution_count": 2,
   "metadata": {
    "ExecuteTime": {
     "end_time": "2020-10-04T03:34:33.691915Z",
     "start_time": "2020-10-04T03:34:33.689569Z"
    },
    "execution": {
     "iopub.execute_input": "2020-10-05T04:44:59.353236Z",
     "iopub.status.busy": "2020-10-05T04:44:59.352451Z",
     "iopub.status.idle": "2020-10-05T04:44:59.355809Z",
     "shell.execute_reply": "2020-10-05T04:44:59.356236Z"
    },
    "papermill": {
     "duration": 0.048398,
     "end_time": "2020-10-05T04:44:59.356357",
     "exception": false,
     "start_time": "2020-10-05T04:44:59.307959",
     "status": "completed"
    },
    "tags": []
   },
   "outputs": [],
   "source": [
    "# Download data & unzip if it doesn't already exist\n",
    "import os.path\n",
    "from io import BytesIO\n",
    "from urllib.request import urlopen\n",
    "from zipfile import ZipFile"
   ]
  },
  {
   "cell_type": "code",
   "execution_count": 3,
   "metadata": {
    "ExecuteTime": {
     "end_time": "2020-10-04T03:34:33.696654Z",
     "start_time": "2020-10-04T03:34:33.693663Z"
    },
    "execution": {
     "iopub.execute_input": "2020-10-05T04:44:59.443743Z",
     "iopub.status.busy": "2020-10-05T04:44:59.442346Z",
     "iopub.status.idle": "2020-10-05T04:44:59.445094Z",
     "shell.execute_reply": "2020-10-05T04:44:59.445632Z"
    },
    "papermill": {
     "duration": 0.049664,
     "end_time": "2020-10-05T04:44:59.445751",
     "exception": false,
     "start_time": "2020-10-05T04:44:59.396087",
     "status": "completed"
    },
    "tags": []
   },
   "outputs": [],
   "source": [
    "def load_ext_file(data_zip_url, data_path='data/'):\n",
    "    '''Download the zip file from URL and extract it to path (if specified).\n",
    "    '''\n",
    "    # Check if path already exits\n",
    "    if not os.path.exists(data_path):\n",
    "        with urlopen(data_zip_url) as zip_resp:\n",
    "            with ZipFile(BytesIO(zip_resp.read())) as zfile:\n",
    "                # Extract files into the data directory\n",
    "                zfile.extractall(path=None)\n",
    "       "
   ]
  },
  {
   "cell_type": "code",
   "execution_count": 4,
   "metadata": {
    "ExecuteTime": {
     "end_time": "2020-10-04T03:35:58.018741Z",
     "start_time": "2020-10-04T03:34:33.698567Z"
    },
    "execution": {
     "iopub.execute_input": "2020-10-05T04:44:59.545888Z",
     "iopub.status.busy": "2020-10-05T04:44:59.532584Z",
     "iopub.status.idle": "2020-10-05T04:45:24.310817Z",
     "shell.execute_reply": "2020-10-05T04:45:24.310231Z"
    },
    "papermill": {
     "duration": 24.824238,
     "end_time": "2020-10-05T04:45:24.310945",
     "exception": false,
     "start_time": "2020-10-05T04:44:59.486707",
     "status": "completed"
    },
    "tags": []
   },
   "outputs": [],
   "source": [
    "# Use particular release for data from a simulation run\n",
    "load_ext_file('https://github.com/MrGeislinger/clone-driving-behavior/releases/download/v0.9.0/data.zip')"
   ]
  },
  {
   "cell_type": "markdown",
   "metadata": {
    "papermill": {
     "duration": 0.038349,
     "end_time": "2020-10-05T04:45:24.388693",
     "exception": false,
     "start_time": "2020-10-05T04:45:24.350344",
     "status": "completed"
    },
    "tags": []
   },
   "source": [
    "## Read in log file"
   ]
  },
  {
   "cell_type": "code",
   "execution_count": 5,
   "metadata": {
    "ExecuteTime": {
     "end_time": "2020-10-04T03:35:58.025586Z",
     "start_time": "2020-10-04T03:35:58.020288Z"
    },
    "execution": {
     "iopub.execute_input": "2020-10-05T04:45:24.476275Z",
     "iopub.status.busy": "2020-10-05T04:45:24.475529Z",
     "iopub.status.idle": "2020-10-05T04:45:24.479136Z",
     "shell.execute_reply": "2020-10-05T04:45:24.478620Z"
    },
    "papermill": {
     "duration": 0.051733,
     "end_time": "2020-10-05T04:45:24.479237",
     "exception": false,
     "start_time": "2020-10-05T04:45:24.427504",
     "status": "completed"
    },
    "tags": []
   },
   "outputs": [],
   "source": [
    "def create_img_meas_dfs(log_csv, data_dir=None, orig_dir=None, skiprows=None):\n",
    "    '''Creates DataFrames for the image paths and measurements using CSV path.\n",
    "    \n",
    "    Returns tuple of two DataFrames.\n",
    "    '''\n",
    "    data_header = [\n",
    "        'image_center',\n",
    "        'image_left',\n",
    "        'image_right',\n",
    "        'steer_angle', # [-1,1]\n",
    "        'throttle', # boolen (if accelerating)\n",
    "        'break', # boolean (if breaking)\n",
    "        'speed' # mph\n",
    "    ]\n",
    "\n",
    "    df = pd.read_csv(\n",
    "        log_csv,\n",
    "        names=data_header,\n",
    "        skiprows=skiprows\n",
    "    )\n",
    "\n",
    "    # Replace the original directory from dataset (if specified)\n",
    "    if orig_dir and data_dir:\n",
    "        for col in ['image_center','image_left','image_right']:\n",
    "            df[col] = df[col].str.replace(orig_dir,data_dir)\n",
    "    \n",
    "    # Get specifics for each DF\n",
    "    df_img_paths = df.iloc[:,:3]\n",
    "    df_measurments = df.iloc[:,3:]\n",
    "    \n",
    "    return df_img_paths,df_measurments, df"
   ]
  },
  {
   "cell_type": "code",
   "execution_count": 6,
   "metadata": {
    "ExecuteTime": {
     "end_time": "2020-10-04T03:35:58.112089Z",
     "start_time": "2020-10-04T03:35:58.027936Z"
    },
    "execution": {
     "iopub.execute_input": "2020-10-05T04:45:24.564970Z",
     "iopub.status.busy": "2020-10-05T04:45:24.564034Z",
     "iopub.status.idle": "2020-10-05T04:45:24.670774Z",
     "shell.execute_reply": "2020-10-05T04:45:24.670188Z"
    },
    "papermill": {
     "duration": 0.152961,
     "end_time": "2020-10-05T04:45:24.670890",
     "exception": false,
     "start_time": "2020-10-05T04:45:24.517929",
     "status": "completed"
    },
    "tags": []
   },
   "outputs": [],
   "source": [
    "df_imgs, df_meas, df_all = create_img_meas_dfs(\n",
    "    log_csv='data/driving_log.csv', \n",
    "    skiprows=1)\n",
    "\n",
    "display(df_imgs.head())\n",
    "\n",
    "print('Stats for measurements:')\n",
    "display(df_meas.describe())"
   ]
  },
  {
   "cell_type": "markdown",
   "metadata": {
    "papermill": {
     "duration": 0.042106,
     "end_time": "2020-10-05T04:45:24.759843",
     "exception": false,
     "start_time": "2020-10-05T04:45:24.717737",
     "status": "completed"
    },
    "tags": []
   },
   "source": [
    "# Data Augmentation"
   ]
  },
  {
   "cell_type": "markdown",
   "metadata": {
    "papermill": {
     "duration": 0.040501,
     "end_time": "2020-10-05T04:45:24.840794",
     "exception": false,
     "start_time": "2020-10-05T04:45:24.800293",
     "status": "completed"
    },
    "tags": []
   },
   "source": [
    "We can do some data augmentation to the images to have more variety in the training material. We'll just do a horizontal flip here and only use the center images."
   ]
  },
  {
   "cell_type": "markdown",
   "metadata": {
    "papermill": {
     "duration": 0.041669,
     "end_time": "2020-10-05T04:45:24.924372",
     "exception": false,
     "start_time": "2020-10-05T04:45:24.882703",
     "status": "completed"
    },
    "tags": []
   },
   "source": [
    "## Attempt w/ `ImageDataGenerator`"
   ]
  },
  {
   "cell_type": "code",
   "execution_count": 7,
   "metadata": {
    "ExecuteTime": {
     "end_time": "2020-10-04T03:35:58.115026Z",
     "start_time": "2020-10-04T03:35:58.113264Z"
    },
    "execution": {
     "iopub.execute_input": "2020-10-05T04:45:25.014207Z",
     "iopub.status.busy": "2020-10-05T04:45:25.013298Z",
     "iopub.status.idle": "2020-10-05T04:45:25.016227Z",
     "shell.execute_reply": "2020-10-05T04:45:25.016765Z"
    },
    "papermill": {
     "duration": 0.05111,
     "end_time": "2020-10-05T04:45:25.016894",
     "exception": false,
     "start_time": "2020-10-05T04:45:24.965784",
     "status": "completed"
    },
    "tags": []
   },
   "outputs": [],
   "source": [
    "# datagen = keras.preprocessing.image.ImageDataGenerator(\n",
    "#     horizontal_flip=True, validation_split=0.2)"
   ]
  },
  {
   "cell_type": "code",
   "execution_count": 8,
   "metadata": {
    "ExecuteTime": {
     "end_time": "2020-10-04T03:35:58.118861Z",
     "start_time": "2020-10-04T03:35:58.117196Z"
    },
    "execution": {
     "iopub.execute_input": "2020-10-05T04:45:25.104893Z",
     "iopub.status.busy": "2020-10-05T04:45:25.103629Z",
     "iopub.status.idle": "2020-10-05T04:45:25.105666Z",
     "shell.execute_reply": "2020-10-05T04:45:25.106141Z"
    },
    "papermill": {
     "duration": 0.04851,
     "end_time": "2020-10-05T04:45:25.106271",
     "exception": false,
     "start_time": "2020-10-05T04:45:25.057761",
     "status": "completed"
    },
    "scrolled": true,
    "tags": []
   },
   "outputs": [],
   "source": [
    "# Only looking at center images \n",
    "# TODO: \n",
    "# Known issue for regression problems: https://github.com/keras-team/keras-preprocessing/issues/214\n",
    "# train_generator = datagen.flow(\n",
    "#     X_train[:,1,:], y=y_train, batch_size=64, shuffle=True, seed=27, subset='training'\n",
    "# )\n",
    "# valid_generator = datagen.flow(\n",
    "#     X_valid[:,1,:], y=y_valid, batch_size=64, shuffle=True, seed=27, subset='validation'\n",
    "# )"
   ]
  },
  {
   "cell_type": "markdown",
   "metadata": {
    "papermill": {
     "duration": 0.039316,
     "end_time": "2020-10-05T04:45:25.186304",
     "exception": false,
     "start_time": "2020-10-05T04:45:25.146988",
     "status": "completed"
    },
    "tags": []
   },
   "source": [
    "## Flip the image"
   ]
  },
  {
   "cell_type": "markdown",
   "metadata": {
    "papermill": {
     "duration": 0.040223,
     "end_time": "2020-10-05T04:45:25.266898",
     "exception": false,
     "start_time": "2020-10-05T04:45:25.226675",
     "status": "completed"
    },
    "tags": []
   },
   "source": [
    "We can flip the image and the steering angle to better generalize."
   ]
  },
  {
   "cell_type": "code",
   "execution_count": 9,
   "metadata": {
    "ExecuteTime": {
     "end_time": "2020-10-04T03:35:58.122417Z",
     "start_time": "2020-10-04T03:35:58.120272Z"
    },
    "execution": {
     "iopub.execute_input": "2020-10-05T04:45:25.355827Z",
     "iopub.status.busy": "2020-10-05T04:45:25.354075Z",
     "iopub.status.idle": "2020-10-05T04:45:25.356637Z",
     "shell.execute_reply": "2020-10-05T04:45:25.357217Z"
    },
    "papermill": {
     "duration": 0.049222,
     "end_time": "2020-10-05T04:45:25.357333",
     "exception": false,
     "start_time": "2020-10-05T04:45:25.308111",
     "status": "completed"
    },
    "tags": []
   },
   "outputs": [],
   "source": [
    "def flip_image(image, target):\n",
    "    '''Horizontally flip image and target value.\n",
    "    '''\n",
    "    image_flipped = np.fliplr(image)\n",
    "    target_flipped = -target\n",
    "    return image_flipped, target_flipped\n",
    "    "
   ]
  },
  {
   "cell_type": "markdown",
   "metadata": {
    "papermill": {
     "duration": 0.040859,
     "end_time": "2020-10-05T04:45:25.438863",
     "exception": false,
     "start_time": "2020-10-05T04:45:25.398004",
     "status": "completed"
    },
    "tags": []
   },
   "source": [
    "## Adjust off-center images"
   ]
  },
  {
   "cell_type": "code",
   "execution_count": 10,
   "metadata": {
    "ExecuteTime": {
     "end_time": "2020-10-04T03:35:58.126576Z",
     "start_time": "2020-10-04T03:35:58.123613Z"
    },
    "execution": {
     "iopub.execute_input": "2020-10-05T04:45:25.527907Z",
     "iopub.status.busy": "2020-10-05T04:45:25.526103Z",
     "iopub.status.idle": "2020-10-05T04:45:25.528642Z",
     "shell.execute_reply": "2020-10-05T04:45:25.529136Z"
    },
    "papermill": {
     "duration": 0.050031,
     "end_time": "2020-10-05T04:45:25.529260",
     "exception": false,
     "start_time": "2020-10-05T04:45:25.479229",
     "status": "completed"
    },
    "tags": []
   },
   "outputs": [],
   "source": [
    "def adjust_offcenter_image(image, target, correction: float = 1e-2,\n",
    "                                  img_camera_type: str = 'center'):\n",
    "    '''\n",
    "    img_camera_type: The type of camera image\n",
    "    target: The target value (to be adjusted)\n",
    "    '''\n",
    "    # TODO: Adjust the target slightly for off-center image\n",
    "    if img_camera_type == 'left':\n",
    "        new_target = target + correction\n",
    "    elif img_camera_type == 'right':\n",
    "        new_target = target - correction\n",
    "    # Don't make any correction if unknown or centere\n",
    "    else: \n",
    "        new_target = target\n",
    "    return image, new_target"
   ]
  },
  {
   "cell_type": "markdown",
   "metadata": {
    "papermill": {
     "duration": 0.041319,
     "end_time": "2020-10-05T04:45:25.611672",
     "exception": false,
     "start_time": "2020-10-05T04:45:25.570353",
     "status": "completed"
    },
    "tags": []
   },
   "source": [
    "## Don't use some small steering values"
   ]
  },
  {
   "cell_type": "markdown",
   "metadata": {
    "papermill": {
     "duration": 0.041839,
     "end_time": "2020-10-05T04:45:25.696043",
     "exception": false,
     "start_time": "2020-10-05T04:45:25.654204",
     "status": "completed"
    },
    "tags": []
   },
   "source": [
    "Since the data is biased towards to low steering (driving straight), randomly drop some of the data to discourage simply driving straight."
   ]
  },
  {
   "cell_type": "code",
   "execution_count": 11,
   "metadata": {
    "ExecuteTime": {
     "end_time": "2020-10-04T03:36:57.808003Z",
     "start_time": "2020-10-04T03:36:57.804760Z"
    },
    "execution": {
     "iopub.execute_input": "2020-10-05T04:45:25.785879Z",
     "iopub.status.busy": "2020-10-05T04:45:25.784986Z",
     "iopub.status.idle": "2020-10-05T04:45:25.787723Z",
     "shell.execute_reply": "2020-10-05T04:45:25.787240Z"
    },
    "papermill": {
     "duration": 0.049575,
     "end_time": "2020-10-05T04:45:25.787821",
     "exception": false,
     "start_time": "2020-10-05T04:45:25.738246",
     "status": "completed"
    },
    "tags": []
   },
   "outputs": [],
   "source": [
    "def skip_low_steering(steer_value, steer_threshold=0.05, drop_percent=0.2):\n",
    "    '''\n",
    "    '''\n",
    "    # Keep value if greater than threshold or by chance\n",
    "    return (steer_value < steer_threshold['left']\n",
    "            or steer_value > steer_threshold['right']\n",
    "            or np.random.rand() > drop_percent)\n",
    "        "
   ]
  },
  {
   "cell_type": "markdown",
   "metadata": {
    "papermill": {
     "duration": 0.040839,
     "end_time": "2020-10-05T04:45:25.869518",
     "exception": false,
     "start_time": "2020-10-05T04:45:25.828679",
     "status": "completed"
    },
    "tags": []
   },
   "source": [
    "# Creating own generator to read data"
   ]
  },
  {
   "cell_type": "code",
   "execution_count": 12,
   "metadata": {
    "ExecuteTime": {
     "end_time": "2020-10-04T03:36:58.338352Z",
     "start_time": "2020-10-04T03:36:58.331629Z"
    },
    "execution": {
     "iopub.execute_input": "2020-10-05T04:45:26.120633Z",
     "iopub.status.busy": "2020-10-05T04:45:26.114286Z",
     "iopub.status.idle": "2020-10-05T04:45:26.123039Z",
     "shell.execute_reply": "2020-10-05T04:45:26.123511Z"
    },
    "papermill": {
     "duration": 0.201993,
     "end_time": "2020-10-05T04:45:26.123666",
     "exception": false,
     "start_time": "2020-10-05T04:45:25.921673",
     "status": "completed"
    },
    "tags": []
   },
   "outputs": [],
   "source": [
    "def data_generator(X, y ,batch_size=64, center_only=True, data_dir='data/'):\n",
    "    '''\n",
    "    Generate a batch of training images and targets from a DataFrame.\n",
    "    \n",
    "    Inputs:\n",
    "        X: array-like of paths to images\n",
    "        y: array-like of targerts (in order of X)\n",
    "    '''\n",
    "    # Loop forever so the generator never terminates\n",
    "    while True:\n",
    "        # Shuffle the image paths and targets\n",
    "        X_final = []\n",
    "        y_final = []\n",
    "        X_shuffled, y_shuffled = sklearn.utils.shuffle(X, y, n_samples=batch_size)\n",
    "        # TODO: investigate speed of zipping\n",
    "        # We grab the first element since there is 1 column\n",
    "        for img_path,target in zip(X_shuffled,y_shuffled):\n",
    "            fname = data_dir+img_path\n",
    "            img = cv2.imread(fname[0])\n",
    "            # Skip specifically for the center image (still checks left/right)\n",
    "            steer_thresh = {'left':-0.02, 'right':0.05}\n",
    "            drop_ratio = 0.5\n",
    "            if skip_low_steering(target[0], steer_thresh, drop_ratio):\n",
    "                X_final.append(img)\n",
    "                y_final.append(target[0])\n",
    "                # Use horizontally flipped images (new target)\n",
    "                img_flipped, target_flipped = flip_image(img,target)\n",
    "                X_final.append(img_flipped)\n",
    "                y_final.append(target_flipped[0])\n",
    "            # Check if we should use all images or just center\n",
    "            if not center_only:\n",
    "                # Order: center, left, right\n",
    "                # Corret left image target & add image with target to array\n",
    "                img_l = cv2.imread(fname[1])\n",
    "                target_l = adjust_offcenter_image(img, target, 0.25, 'left')\n",
    "                # Corret right image target & add image with target to array                \n",
    "                img_r = cv2.imread(fname[2])\n",
    "                target_r = adjust_offcenter_image(img, target, 0.25, 'right')\n",
    "                # Check left and right images separately in case they're \n",
    "                # adjusted asymetrically\n",
    "                if skip_low_steering(target_l[0], steer_thresh, drop_ratio):\n",
    "                    X_final.append(img_l)\n",
    "                    y_final.append(target_l[0])\n",
    "                    # Use horizontally flipped images (new target)\n",
    "                    img_flipped, target_flipped = flip_image(img_l,target_l)\n",
    "                    X_final.append(img_flipped)\n",
    "                    y_final.append(target_flipped[0])\n",
    "                if skip_low_steering(target_r[0], steer_thresh, drop_ratio):\n",
    "                    X_final.append(img_r)\n",
    "                    y_final.append(target_r[0])\n",
    "                    # Use horizontally flipped images (new target)\n",
    "                    img_flipped, target_flipped = flip_image(img_r,target_r)\n",
    "                    X_final.append(img_flipped)\n",
    "                    y_final.append(target_flipped[0])\n",
    "                \n",
    "\n",
    "              \n",
    "        batch_x = np.array(X_final)\n",
    "        batch_y = np.array(y_final)\n",
    "        yield (batch_x, batch_y)"
   ]
  },
  {
   "cell_type": "markdown",
   "metadata": {
    "papermill": {
     "duration": 0.04231,
     "end_time": "2020-10-05T04:45:26.210709",
     "exception": false,
     "start_time": "2020-10-05T04:45:26.168399",
     "status": "completed"
    },
    "tags": []
   },
   "source": [
    "## Read in images by path from log file"
   ]
  },
  {
   "cell_type": "markdown",
   "metadata": {
    "papermill": {
     "duration": 0.040496,
     "end_time": "2020-10-05T04:45:26.292646",
     "exception": false,
     "start_time": "2020-10-05T04:45:26.252150",
     "status": "completed"
    },
    "tags": []
   },
   "source": [
    "We'll use the generator created above to read in images by a batch while training (and validating). But to ensure it works, let's test it out below."
   ]
  },
  {
   "cell_type": "code",
   "execution_count": 13,
   "metadata": {
    "ExecuteTime": {
     "end_time": "2020-10-04T03:36:59.122819Z",
     "start_time": "2020-10-04T03:36:59.118640Z"
    },
    "execution": {
     "iopub.execute_input": "2020-10-05T04:45:26.382361Z",
     "iopub.status.busy": "2020-10-05T04:45:26.381711Z",
     "iopub.status.idle": "2020-10-05T04:45:26.384912Z",
     "shell.execute_reply": "2020-10-05T04:45:26.385408Z"
    },
    "papermill": {
     "duration": 0.051763,
     "end_time": "2020-10-05T04:45:26.385532",
     "exception": false,
     "start_time": "2020-10-05T04:45:26.333769",
     "status": "completed"
    },
    "tags": []
   },
   "outputs": [],
   "source": [
    "# Note the multiple images will keep the proper shape\n",
    "temp_generator = data_generator(\n",
    "    df_all[['image_center','image_left','image_right']].values,\n",
    "    df_all['steer_angle'].values.reshape(-1,1)\n",
    ")"
   ]
  },
  {
   "cell_type": "code",
   "execution_count": 14,
   "metadata": {
    "ExecuteTime": {
     "end_time": "2020-10-04T03:36:59.725189Z",
     "start_time": "2020-10-04T03:36:59.648831Z"
    },
    "execution": {
     "iopub.execute_input": "2020-10-05T04:45:26.471565Z",
     "iopub.status.busy": "2020-10-05T04:45:26.470838Z",
     "iopub.status.idle": "2020-10-05T04:45:26.568086Z",
     "shell.execute_reply": "2020-10-05T04:45:26.567522Z"
    },
    "papermill": {
     "duration": 0.142405,
     "end_time": "2020-10-05T04:45:26.568197",
     "exception": false,
     "start_time": "2020-10-05T04:45:26.425792",
     "status": "completed"
    },
    "tags": []
   },
   "outputs": [],
   "source": [
    "imgs,targets = next(temp_generator)"
   ]
  },
  {
   "cell_type": "code",
   "execution_count": 15,
   "metadata": {
    "ExecuteTime": {
     "end_time": "2020-10-04T03:37:01.289657Z",
     "start_time": "2020-10-04T03:37:00.482770Z"
    },
    "execution": {
     "iopub.execute_input": "2020-10-05T04:45:26.658428Z",
     "iopub.status.busy": "2020-10-05T04:45:26.657692Z",
     "iopub.status.idle": "2020-10-05T04:45:27.471642Z",
     "shell.execute_reply": "2020-10-05T04:45:27.472210Z"
    },
    "papermill": {
     "duration": 0.862437,
     "end_time": "2020-10-05T04:45:27.472352",
     "exception": false,
     "start_time": "2020-10-05T04:45:26.609915",
     "status": "completed"
    },
    "tags": []
   },
   "outputs": [],
   "source": [
    "# Test to see if image reading works\n",
    "import matplotlib.pyplot as plt\n",
    "\n",
    "f = plt.figure(figsize=(25,25))\n",
    "ax_left = f.add_subplot(1, 3, 1)\n",
    "ax_center = f.add_subplot(1, 3, 2)\n",
    "ax_right = f.add_subplot(1, 3, 3)\n",
    "\n",
    "\n",
    "# Print out three image examples\n",
    "ax_center.imshow(imgs[0])\n",
    "ax_left.imshow(imgs[1])\n",
    "ax_right.imshow(imgs[2])"
   ]
  },
  {
   "cell_type": "markdown",
   "metadata": {
    "papermill": {
     "duration": 0.052435,
     "end_time": "2020-10-05T04:45:27.577408",
     "exception": false,
     "start_time": "2020-10-05T04:45:27.524973",
     "status": "completed"
    },
    "tags": []
   },
   "source": [
    "## Split the data into training and validation"
   ]
  },
  {
   "cell_type": "code",
   "execution_count": 16,
   "metadata": {
    "ExecuteTime": {
     "end_time": "2020-09-29T05:58:22.711616Z",
     "start_time": "2020-09-29T05:58:22.707767Z"
    },
    "execution": {
     "iopub.execute_input": "2020-10-05T04:45:27.692775Z",
     "iopub.status.busy": "2020-10-05T04:45:27.692045Z",
     "iopub.status.idle": "2020-10-05T04:45:27.696198Z",
     "shell.execute_reply": "2020-10-05T04:45:27.696685Z"
    },
    "papermill": {
     "duration": 0.066243,
     "end_time": "2020-10-05T04:45:27.696813",
     "exception": false,
     "start_time": "2020-10-05T04:45:27.630570",
     "status": "completed"
    },
    "tags": []
   },
   "outputs": [],
   "source": [
    "# Adjust the target for off-center images to be used in training\n",
    "X = df_all[['image_center','image_left','image_right']].values\n",
    "y = df_all[['steer_angle']].values"
   ]
  },
  {
   "cell_type": "code",
   "execution_count": 17,
   "metadata": {
    "ExecuteTime": {
     "end_time": "2020-09-29T05:58:22.715653Z",
     "start_time": "2020-09-29T05:58:22.712779Z"
    },
    "execution": {
     "iopub.execute_input": "2020-10-05T04:45:27.812418Z",
     "iopub.status.busy": "2020-10-05T04:45:27.809664Z",
     "iopub.status.idle": "2020-10-05T04:45:27.815672Z",
     "shell.execute_reply": "2020-10-05T04:45:27.815144Z"
    },
    "papermill": {
     "duration": 0.06426,
     "end_time": "2020-10-05T04:45:27.815778",
     "exception": false,
     "start_time": "2020-10-05T04:45:27.751518",
     "status": "completed"
    },
    "tags": []
   },
   "outputs": [],
   "source": [
    "X_train, X_valid, y_train, y_valid = sklearn.model_selection.train_test_split(\n",
    "                                        X, y, test_size=0.2, random_state=27)"
   ]
  },
  {
   "cell_type": "markdown",
   "metadata": {
    "papermill": {
     "duration": 0.053307,
     "end_time": "2020-10-05T04:45:27.920436",
     "exception": false,
     "start_time": "2020-10-05T04:45:27.867129",
     "status": "completed"
    },
    "tags": []
   },
   "source": [
    "### Generators for both train and validation sets"
   ]
  },
  {
   "cell_type": "code",
   "execution_count": 18,
   "metadata": {
    "ExecuteTime": {
     "end_time": "2020-09-29T05:58:22.718735Z",
     "start_time": "2020-09-29T05:58:22.716699Z"
    },
    "execution": {
     "iopub.execute_input": "2020-10-05T04:45:28.034899Z",
     "iopub.status.busy": "2020-10-05T04:45:28.033973Z",
     "iopub.status.idle": "2020-10-05T04:45:28.036320Z",
     "shell.execute_reply": "2020-10-05T04:45:28.036873Z"
    },
    "papermill": {
     "duration": 0.060883,
     "end_time": "2020-10-05T04:45:28.037000",
     "exception": false,
     "start_time": "2020-10-05T04:45:27.976117",
     "status": "completed"
    },
    "tags": []
   },
   "outputs": [],
   "source": [
    "# Using reasobable batch size so GPU can process enough images\n",
    "train_generator = data_generator(X_train, y_train, batch_size=256)\n",
    "valid_generator = data_generator(X_valid, y_valid, batch_size=256)"
   ]
  },
  {
   "cell_type": "markdown",
   "metadata": {
    "papermill": {
     "duration": 0.091532,
     "end_time": "2020-10-05T04:45:28.181646",
     "exception": false,
     "start_time": "2020-10-05T04:45:28.090114",
     "status": "completed"
    },
    "tags": []
   },
   "source": [
    "# Model"
   ]
  },
  {
   "cell_type": "markdown",
   "metadata": {
    "papermill": {
     "duration": 0.089558,
     "end_time": "2020-10-05T04:45:28.338119",
     "exception": false,
     "start_time": "2020-10-05T04:45:28.248561",
     "status": "completed"
    },
    "tags": []
   },
   "source": [
    "## Using center images only"
   ]
  },
  {
   "cell_type": "markdown",
   "metadata": {
    "papermill": {
     "duration": 0.091938,
     "end_time": "2020-10-05T04:45:28.511520",
     "exception": false,
     "start_time": "2020-10-05T04:45:28.419582",
     "status": "completed"
    },
    "tags": []
   },
   "source": [
    "We'll try just using center images for training the model. If we simply put in the left and right images for the camera angle, we'd likely have issues with the model learning incorrect behavior. There are some techniques that could allow us to use these other images but for simplicity's sake we'll only use the center images for now."
   ]
  },
  {
   "cell_type": "code",
   "execution_count": 19,
   "metadata": {
    "ExecuteTime": {
     "end_time": "2020-09-29T05:58:22.722187Z",
     "start_time": "2020-09-29T05:58:22.719776Z"
    },
    "execution": {
     "iopub.execute_input": "2020-10-05T04:45:28.699693Z",
     "iopub.status.busy": "2020-10-05T04:45:28.698666Z",
     "iopub.status.idle": "2020-10-05T04:45:28.778324Z",
     "shell.execute_reply": "2020-10-05T04:45:28.783460Z"
    },
    "papermill": {
     "duration": 0.188257,
     "end_time": "2020-10-05T04:45:28.783688",
     "exception": false,
     "start_time": "2020-10-05T04:45:28.595431",
     "status": "completed"
    },
    "tags": []
   },
   "outputs": [],
   "source": [
    "# Creating a resuable default convolution\n",
    "from functools import partial\n",
    "DefaultConv2D = partial(keras.layers.Conv2D, kernel_initializer='he_normal',\n",
    "                        kernel_size=3, activation='elu', padding='SAME')"
   ]
  },
  {
   "cell_type": "code",
   "execution_count": 20,
   "metadata": {
    "ExecuteTime": {
     "end_time": "2020-09-29T05:58:22.725148Z",
     "start_time": "2020-09-29T05:58:22.723166Z"
    },
    "execution": {
     "iopub.execute_input": "2020-10-05T04:45:29.140574Z",
     "iopub.status.busy": "2020-10-05T04:45:29.131741Z",
     "iopub.status.idle": "2020-10-05T04:45:29.155706Z",
     "shell.execute_reply": "2020-10-05T04:45:29.171884Z"
    },
    "papermill": {
     "duration": 0.19968,
     "end_time": "2020-10-05T04:45:29.174770",
     "exception": false,
     "start_time": "2020-10-05T04:45:28.975090",
     "status": "completed"
    },
    "tags": []
   },
   "outputs": [],
   "source": [
    "input_shape = (160,320,3)"
   ]
  },
  {
   "cell_type": "code",
   "execution_count": 21,
   "metadata": {
    "ExecuteTime": {
     "end_time": "2020-09-29T05:58:22.741841Z",
     "start_time": "2020-09-29T05:58:22.726187Z"
    },
    "execution": {
     "iopub.execute_input": "2020-10-05T04:45:29.603112Z",
     "iopub.status.busy": "2020-10-05T04:45:29.602219Z",
     "iopub.status.idle": "2020-10-05T04:45:29.657085Z",
     "shell.execute_reply": "2020-10-05T04:45:29.657784Z"
    },
    "papermill": {
     "duration": 0.213954,
     "end_time": "2020-10-05T04:45:29.658011",
     "exception": false,
     "start_time": "2020-10-05T04:45:29.444057",
     "status": "completed"
    },
    "tags": []
   },
   "outputs": [],
   "source": [
    "# Based on https://developer.nvidia.com/blog/deep-learning-self-driving-cars/\n",
    "model_list = [\n",
    "    # Normalize the images\n",
    "    keras.layers.Lambda(lambda x: (x/255.0) - 0.5, input_shape=input_shape),\n",
    "    DefaultConv2D(filters=24, kernel_size=5),\n",
    "    keras.layers.MaxPooling2D(pool_size=2),\n",
    "    DefaultConv2D(filters=36, kernel_size=5),\n",
    "    keras.layers.MaxPooling2D(pool_size=2), \n",
    "    DefaultConv2D(filters=48),\n",
    "    keras.layers.MaxPooling2D(pool_size=2),\n",
    "    DefaultConv2D(filters=64),\n",
    "    keras.layers.MaxPooling2D(pool_size=2),\n",
    "    # Fully connected network\n",
    "    keras.layers.Flatten(),\n",
    "    keras.layers.Dense(units=1024, activation='elu'),\n",
    "    keras.layers.Dropout(0.2),  # Dropout to regularize\n",
    "    keras.layers.Dense(units=128, activation='elu'),\n",
    "    keras.layers.Dropout(0.2),  # Dropout to regularize\n",
    "    keras.layers.Dense(units=64, activation='elu'),\n",
    "    keras.layers.Dense(units=16, activation='elu'),\n",
    "    keras.layers.Dense(units=1)\n",
    "]"
   ]
  },
  {
   "cell_type": "code",
   "execution_count": 22,
   "metadata": {
    "ExecuteTime": {
     "end_time": "2020-09-29T05:58:22.747215Z",
     "start_time": "2020-09-29T05:58:22.7435Z"
    },
    "execution": {
     "iopub.execute_input": "2020-10-05T04:45:29.831918Z",
     "iopub.status.busy": "2020-10-05T04:45:29.827707Z",
     "iopub.status.idle": "2020-10-05T04:45:29.833120Z",
     "shell.execute_reply": "2020-10-05T04:45:29.833758Z"
    },
    "papermill": {
     "duration": 0.08832,
     "end_time": "2020-10-05T04:45:29.833973",
     "exception": false,
     "start_time": "2020-10-05T04:45:29.745653",
     "status": "completed"
    },
    "tags": []
   },
   "outputs": [],
   "source": [
    "# Adding in model to crop images first\n",
    "model_list = (\n",
    "    [model_list[0]] +\n",
    "    # Crop out \"unnecessary parts of the image\"\n",
    "    [keras.layers.Cropping2D(cropping=((60,20), (0,0)))] +\n",
    "    model_list[1:]\n",
    ")"
   ]
  },
  {
   "cell_type": "code",
   "execution_count": 23,
   "metadata": {
    "ExecuteTime": {
     "end_time": "2020-09-29T05:58:22.856221Z",
     "start_time": "2020-09-29T05:58:22.749061Z"
    },
    "execution": {
     "iopub.execute_input": "2020-10-05T04:45:31.078361Z",
     "iopub.status.busy": "2020-10-05T04:45:31.077275Z",
     "iopub.status.idle": "2020-10-05T04:45:33.583069Z",
     "shell.execute_reply": "2020-10-05T04:45:33.582349Z"
    },
    "papermill": {
     "duration": 3.674436,
     "end_time": "2020-10-05T04:45:33.583196",
     "exception": false,
     "start_time": "2020-10-05T04:45:29.908760",
     "status": "completed"
    },
    "tags": []
   },
   "outputs": [],
   "source": [
    "model = keras.models.Sequential(model_list)"
   ]
  },
  {
   "cell_type": "code",
   "execution_count": 24,
   "metadata": {
    "ExecuteTime": {
     "end_time": "2020-09-29T05:58:22.865408Z",
     "start_time": "2020-09-29T05:58:22.857562Z"
    },
    "execution": {
     "iopub.execute_input": "2020-10-05T04:45:34.092289Z",
     "iopub.status.busy": "2020-10-05T04:45:34.091184Z",
     "iopub.status.idle": "2020-10-05T04:45:34.098581Z",
     "shell.execute_reply": "2020-10-05T04:45:34.097943Z"
    },
    "papermill": {
     "duration": 0.452175,
     "end_time": "2020-10-05T04:45:34.098699",
     "exception": false,
     "start_time": "2020-10-05T04:45:33.646524",
     "status": "completed"
    },
    "tags": []
   },
   "outputs": [],
   "source": [
    "model.compile(\n",
    "    loss='mse', \n",
    "    optimizer='nadam'\n",
    ")"
   ]
  },
  {
   "cell_type": "code",
   "execution_count": 25,
   "metadata": {
    "ExecuteTime": {
     "end_time": "2020-09-29T05:58:22.875585Z",
     "start_time": "2020-09-29T05:58:22.8683Z"
    },
    "execution": {
     "iopub.execute_input": "2020-10-05T04:45:34.215378Z",
     "iopub.status.busy": "2020-10-05T04:45:34.214429Z",
     "iopub.status.idle": "2020-10-05T04:45:34.228913Z",
     "shell.execute_reply": "2020-10-05T04:45:34.228339Z"
    },
    "papermill": {
     "duration": 0.075334,
     "end_time": "2020-10-05T04:45:34.229034",
     "exception": false,
     "start_time": "2020-10-05T04:45:34.153700",
     "status": "completed"
    },
    "scrolled": true,
    "tags": []
   },
   "outputs": [],
   "source": [
    "model.summary()"
   ]
  },
  {
   "cell_type": "code",
   "execution_count": 26,
   "metadata": {
    "ExecuteTime": {
     "end_time": "2020-09-29T05:58:22.879684Z",
     "start_time": "2020-09-29T05:58:22.877399Z"
    },
    "execution": {
     "iopub.execute_input": "2020-10-05T04:45:34.338479Z",
     "iopub.status.busy": "2020-10-05T04:45:34.337900Z",
     "iopub.status.idle": "2020-10-05T04:45:34.342311Z",
     "shell.execute_reply": "2020-10-05T04:45:34.341802Z"
    },
    "papermill": {
     "duration": 0.061424,
     "end_time": "2020-10-05T04:45:34.342431",
     "exception": false,
     "start_time": "2020-10-05T04:45:34.281007",
     "status": "completed"
    },
    "tags": []
   },
   "outputs": [],
   "source": [
    "# Allow early stopping after not changing\n",
    "stop_after_no_change = keras.callbacks.EarlyStopping(\n",
    "    monitor='val_loss',\n",
    "    patience=10,\n",
    "    restore_best_weights=True\n",
    ")"
   ]
  },
  {
   "cell_type": "code",
   "execution_count": 27,
   "metadata": {
    "ExecuteTime": {
     "end_time": "2020-09-29T06:38:24.027022Z",
     "start_time": "2020-09-29T05:58:22.880791Z"
    },
    "execution": {
     "iopub.execute_input": "2020-10-05T04:45:34.453921Z",
     "iopub.status.busy": "2020-10-05T04:45:34.453291Z",
     "iopub.status.idle": "2020-10-05T05:19:28.362703Z",
     "shell.execute_reply": "2020-10-05T05:19:28.363575Z"
    },
    "papermill": {
     "duration": 2033.969046,
     "end_time": "2020-10-05T05:19:28.363774",
     "exception": false,
     "start_time": "2020-10-05T04:45:34.394728",
     "status": "completed"
    },
    "scrolled": true,
    "tags": []
   },
   "outputs": [],
   "source": [
    "history = model.fit(\n",
    "    x=train_generator,\n",
    "    y=None, # Since using a generator\n",
    "    batch_size=None, # Since using a generator\n",
    "    epochs=256, # Large since we want to ensure we stop by early stopping\n",
    "    steps_per_epoch=128, # Ideal: steps*batch_size = # of images\n",
    "    validation_data=valid_generator,\n",
    "    validation_steps=32,\n",
    "    callbacks=[stop_after_no_change]\n",
    ")"
   ]
  },
  {
   "cell_type": "markdown",
   "metadata": {
    "papermill": {
     "duration": 1.378249,
     "end_time": "2020-10-05T05:19:31.249736",
     "exception": false,
     "start_time": "2020-10-05T05:19:29.871487",
     "status": "completed"
    },
    "tags": []
   },
   "source": [
    "### Evaluation"
   ]
  },
  {
   "cell_type": "code",
   "execution_count": 28,
   "metadata": {
    "ExecuteTime": {
     "end_time": "2020-09-29T06:38:24.036131Z",
     "start_time": "2020-09-29T06:38:24.028277Z"
    },
    "execution": {
     "iopub.execute_input": "2020-10-05T05:19:34.017284Z",
     "iopub.status.busy": "2020-10-05T05:19:34.016116Z",
     "iopub.status.idle": "2020-10-05T05:19:34.024892Z",
     "shell.execute_reply": "2020-10-05T05:19:34.024298Z"
    },
    "papermill": {
     "duration": 1.407619,
     "end_time": "2020-10-05T05:19:34.025025",
     "exception": false,
     "start_time": "2020-10-05T05:19:32.617406",
     "status": "completed"
    },
    "tags": []
   },
   "outputs": [],
   "source": [
    "import matplotlib.pyplot as plt\n",
    "%matplotlib inline \n",
    "\n",
    "def eval_model(model, model_history, X, y, show=True):\n",
    "    '''\n",
    "    '''\n",
    "    score = model.evaluate(X, y)\n",
    "    print(f'Loss: {score:.2f}')\n",
    "\n",
    "    if show:\n",
    "        plt.plot(model_history.history['loss'], label='Loss (training data)')\n",
    "        plt.plot(model_history.history['val_loss'], label='Loss (validation data)')\n",
    "        plt.ylabel('Loss')\n",
    "        plt.xlabel('Epoch')\n",
    "        plt.legend(loc='upper right')\n",
    "        plt.show()"
   ]
  },
  {
   "cell_type": "markdown",
   "metadata": {
    "papermill": {
     "duration": 1.414126,
     "end_time": "2020-10-05T05:19:37.069227",
     "exception": false,
     "start_time": "2020-10-05T05:19:35.655101",
     "status": "completed"
    },
    "tags": []
   },
   "source": [
    "Let's checkout how the previous model turned while training."
   ]
  },
  {
   "cell_type": "code",
   "execution_count": 29,
   "metadata": {
    "ExecuteTime": {
     "end_time": "2020-09-29T06:39:55.520013Z",
     "start_time": "2020-09-29T06:39:54.694591Z"
    },
    "execution": {
     "iopub.execute_input": "2020-10-05T05:19:39.839984Z",
     "iopub.status.busy": "2020-10-05T05:19:39.839018Z",
     "iopub.status.idle": "2020-10-05T05:19:40.422823Z",
     "shell.execute_reply": "2020-10-05T05:19:40.422212Z"
    },
    "papermill": {
     "duration": 1.966688,
     "end_time": "2020-10-05T05:19:40.422948",
     "exception": false,
     "start_time": "2020-10-05T05:19:38.456260",
     "status": "completed"
    },
    "tags": []
   },
   "outputs": [],
   "source": [
    "test_generator = data_generator(X_valid, y_valid, batch_size=64)\n",
    "X_test, y_test = next(test_generator)\n",
    "eval_model(model, history, X_test, y_test)"
   ]
  },
  {
   "cell_type": "code",
   "execution_count": 30,
   "metadata": {
    "execution": {
     "iopub.execute_input": "2020-10-05T05:19:43.233528Z",
     "iopub.status.busy": "2020-10-05T05:19:43.232034Z",
     "iopub.status.idle": "2020-10-05T05:19:43.397410Z",
     "shell.execute_reply": "2020-10-05T05:19:43.398000Z"
    },
    "papermill": {
     "duration": 1.602765,
     "end_time": "2020-10-05T05:19:43.398149",
     "exception": false,
     "start_time": "2020-10-05T05:19:41.795384",
     "status": "completed"
    },
    "scrolled": true,
    "tags": []
   },
   "outputs": [],
   "source": [
    "# Ignore the first epoch since it's typically very high compared to the rest\n",
    "plt.plot(history.history['loss'], label='Loss (training data)')\n",
    "plt.plot(history.history['val_loss'], label='Loss (validation data)')\n",
    "plt.ylabel('Loss')\n",
    "plt.xlabel('Epoch')\n",
    "plt.ylim(top=max(history.history['val_loss'][1:]), bottom=0.0)\n",
    "plt.legend(loc='upper right')\n",
    "plt.show()"
   ]
  },
  {
   "cell_type": "code",
   "execution_count": 31,
   "metadata": {
    "ExecuteTime": {
     "end_time": "2020-09-29T06:39:58.339414Z",
     "start_time": "2020-09-29T06:39:58.205548Z"
    },
    "execution": {
     "iopub.execute_input": "2020-10-05T05:19:46.386416Z",
     "iopub.status.busy": "2020-10-05T05:19:46.385639Z",
     "iopub.status.idle": "2020-10-05T05:19:46.585179Z",
     "shell.execute_reply": "2020-10-05T05:19:46.584235Z"
    },
    "papermill": {
     "duration": 1.779131,
     "end_time": "2020-10-05T05:19:46.585294",
     "exception": false,
     "start_time": "2020-10-05T05:19:44.806163",
     "status": "completed"
    },
    "tags": []
   },
   "outputs": [],
   "source": [
    "model.save('model.h5')"
   ]
  },
  {
   "cell_type": "code",
   "execution_count": 32,
   "metadata": {
    "execution": {
     "iopub.execute_input": "2020-10-05T05:19:49.305168Z",
     "iopub.status.busy": "2020-10-05T05:19:49.304323Z",
     "iopub.status.idle": "2020-10-05T05:19:51.385233Z",
     "shell.execute_reply": "2020-10-05T05:19:51.385731Z"
    },
    "papermill": {
     "duration": 3.428443,
     "end_time": "2020-10-05T05:19:51.385901",
     "exception": false,
     "start_time": "2020-10-05T05:19:47.957458",
     "status": "completed"
    },
    "tags": []
   },
   "outputs": [],
   "source": [
    "# Clean up the data downloaded (not needed for output)\n",
    "!rm -rf data/"
   ]
  },
  {
   "cell_type": "code",
   "execution_count": 33,
   "metadata": {
    "execution": {
     "iopub.execute_input": "2020-10-05T05:19:54.152464Z",
     "iopub.status.busy": "2020-10-05T05:19:54.151496Z",
     "iopub.status.idle": "2020-10-05T05:19:54.869974Z",
     "shell.execute_reply": "2020-10-05T05:19:54.868919Z"
    },
    "papermill": {
     "duration": 2.118728,
     "end_time": "2020-10-05T05:19:54.870111",
     "exception": false,
     "start_time": "2020-10-05T05:19:52.751383",
     "status": "completed"
    },
    "tags": []
   },
   "outputs": [],
   "source": [
    "!rm -rf __MACOSX/"
   ]
  }
 ],
 "metadata": {
  "kernelspec": {
   "display_name": "Python 3",
   "language": "python",
   "name": "python3"
  },
  "language_info": {
   "codemirror_mode": {
    "name": "ipython",
    "version": 3
   },
   "file_extension": ".py",
   "mimetype": "text/x-python",
   "name": "python",
   "nbconvert_exporter": "python",
   "pygments_lexer": "ipython3",
   "version": "3.7.9"
  },
  "papermill": {
   "duration": 2110.395604,
   "end_time": "2020-10-05T05:19:57.468469",
   "environment_variables": {},
   "exception": null,
   "input_path": "__notebook__.ipynb",
   "output_path": "__notebook__.ipynb",
   "parameters": {},
   "start_time": "2020-10-05T04:44:47.072865",
   "version": "2.1.0"
  },
  "toc": {
   "base_numbering": 1,
   "nav_menu": {},
   "number_sections": true,
   "sideBar": false,
   "skip_h1_title": false,
   "title_cell": "Table of Contents",
   "title_sidebar": "Contents",
   "toc_cell": true,
   "toc_position": {},
   "toc_section_display": true,
   "toc_window_display": false
  },
  "varInspector": {
   "cols": {
    "lenName": 16,
    "lenType": 16,
    "lenVar": 40
   },
   "kernels_config": {
    "python": {
     "delete_cmd_postfix": "",
     "delete_cmd_prefix": "del ",
     "library": "var_list.py",
     "varRefreshCmd": "print(var_dic_list())"
    },
    "r": {
     "delete_cmd_postfix": ") ",
     "delete_cmd_prefix": "rm(",
     "library": "var_list.r",
     "varRefreshCmd": "cat(var_dic_list()) "
    }
   },
   "types_to_exclude": [
    "module",
    "function",
    "builtin_function_or_method",
    "instance",
    "_Feature"
   ],
   "window_display": false
  }
 },
 "nbformat": 4,
 "nbformat_minor": 4
}
