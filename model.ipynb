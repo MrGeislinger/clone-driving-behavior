{
 "cells": [
  {
   "cell_type": "markdown",
   "metadata": {
    "papermill": {
     "duration": 0.036084,
     "end_time": "2020-10-02T05:45:57.387738",
     "exception": false,
     "start_time": "2020-10-02T05:45:57.351654",
     "status": "completed"
    },
    "tags": [],
    "toc": true
   },
   "source": [
    "<h1>Table of Contents<span class=\"tocSkip\"></span></h1>\n",
    "<div class=\"toc\"><ul class=\"toc-item\"><li><span><a href=\"#Load-the-Data\" data-toc-modified-id=\"Load-the-Data-1\"><span class=\"toc-item-num\">1&nbsp;&nbsp;</span>Load the Data</a></span><ul class=\"toc-item\"><li><span><a href=\"#Download-data-(if-needed)\" data-toc-modified-id=\"Download-data-(if-needed)-1.1\"><span class=\"toc-item-num\">1.1&nbsp;&nbsp;</span>Download data (if needed)</a></span></li><li><span><a href=\"#Read-in-log-file\" data-toc-modified-id=\"Read-in-log-file-1.2\"><span class=\"toc-item-num\">1.2&nbsp;&nbsp;</span>Read in log file</a></span></li></ul></li><li><span><a href=\"#Data-Augmentation\" data-toc-modified-id=\"Data-Augmentation-2\"><span class=\"toc-item-num\">2&nbsp;&nbsp;</span>Data Augmentation</a></span><ul class=\"toc-item\"><li><span><a href=\"#Attempt-w/-ImageDataGenerator\" data-toc-modified-id=\"Attempt-w/-ImageDataGenerator-2.1\"><span class=\"toc-item-num\">2.1&nbsp;&nbsp;</span>Attempt w/ <code>ImageDataGenerator</code></a></span></li><li><span><a href=\"#Flip-the-image\" data-toc-modified-id=\"Flip-the-image-2.2\"><span class=\"toc-item-num\">2.2&nbsp;&nbsp;</span>Flip the image</a></span></li><li><span><a href=\"#Adjust-off-center-images\" data-toc-modified-id=\"Adjust-off-center-images-2.3\"><span class=\"toc-item-num\">2.3&nbsp;&nbsp;</span>Adjust off-center images</a></span></li><li><span><a href=\"#Don't-use-some-small-steering-values\" data-toc-modified-id=\"Don't-use-some-small-steering-values-2.4\"><span class=\"toc-item-num\">2.4&nbsp;&nbsp;</span>Don't use some small steering values</a></span></li></ul></li><li><span><a href=\"#Creating-own-generator-to-read-data\" data-toc-modified-id=\"Creating-own-generator-to-read-data-3\"><span class=\"toc-item-num\">3&nbsp;&nbsp;</span>Creating own generator to read data</a></span><ul class=\"toc-item\"><li><span><a href=\"#Read-in-images-by-path-from-log-file\" data-toc-modified-id=\"Read-in-images-by-path-from-log-file-3.1\"><span class=\"toc-item-num\">3.1&nbsp;&nbsp;</span>Read in images by path from log file</a></span></li><li><span><a href=\"#Split-the-data-into-training-and-validation\" data-toc-modified-id=\"Split-the-data-into-training-and-validation-3.2\"><span class=\"toc-item-num\">3.2&nbsp;&nbsp;</span>Split the data into training and validation</a></span><ul class=\"toc-item\"><li><span><a href=\"#Generators-for-both-train-and-validation-sets\" data-toc-modified-id=\"Generators-for-both-train-and-validation-sets-3.2.1\"><span class=\"toc-item-num\">3.2.1&nbsp;&nbsp;</span>Generators for both train and validation sets</a></span></li></ul></li></ul></li><li><span><a href=\"#Model\" data-toc-modified-id=\"Model-4\"><span class=\"toc-item-num\">4&nbsp;&nbsp;</span>Model</a></span><ul class=\"toc-item\"><li><span><a href=\"#Using-center-images-only\" data-toc-modified-id=\"Using-center-images-only-4.1\"><span class=\"toc-item-num\">4.1&nbsp;&nbsp;</span>Using center images only</a></span><ul class=\"toc-item\"><li><span><a href=\"#Evaluation\" data-toc-modified-id=\"Evaluation-4.1.1\"><span class=\"toc-item-num\">4.1.1&nbsp;&nbsp;</span>Evaluation</a></span></li></ul></li></ul></li></ul></div>"
   ]
  },
  {
   "cell_type": "code",
   "execution_count": null,
   "metadata": {
    "ExecuteTime": {
     "end_time": "2020-10-03T17:07:10.722700Z",
     "start_time": "2020-10-03T17:07:06.051659Z"
    },
    "execution": {
     "iopub.execute_input": "2020-10-02T05:45:57.465923Z",
     "iopub.status.busy": "2020-10-02T05:45:57.465157Z",
     "iopub.status.idle": "2020-10-02T05:46:04.521723Z",
     "shell.execute_reply": "2020-10-02T05:46:04.52035Z"
    },
    "papermill": {
     "duration": 7.096951,
     "end_time": "2020-10-02T05:46:04.52186",
     "exception": false,
     "start_time": "2020-10-02T05:45:57.424909",
     "status": "completed"
    },
    "tags": []
   },
   "outputs": [],
   "source": [
    "import pandas as pd\n",
    "import numpy as np\n",
    "import cv2\n",
    "import sklearn\n",
    "import sklearn.model_selection\n",
    "import tensorflow.keras as keras"
   ]
  },
  {
   "cell_type": "markdown",
   "metadata": {
    "papermill": {
     "duration": 0.036599,
     "end_time": "2020-10-02T05:46:04.597898",
     "exception": false,
     "start_time": "2020-10-02T05:46:04.561299",
     "status": "completed"
    },
    "tags": []
   },
   "source": [
    "# Load the Data"
   ]
  },
  {
   "cell_type": "markdown",
   "metadata": {
    "papermill": {
     "duration": 0.036205,
     "end_time": "2020-10-02T05:46:04.670708",
     "exception": false,
     "start_time": "2020-10-02T05:46:04.634503",
     "status": "completed"
    },
    "tags": []
   },
   "source": [
    "We'll load the log data & also load the images (found in the log file)."
   ]
  },
  {
   "cell_type": "markdown",
   "metadata": {
    "papermill": {
     "duration": 0.04488,
     "end_time": "2020-10-02T05:46:04.753796",
     "exception": false,
     "start_time": "2020-10-02T05:46:04.708916",
     "status": "completed"
    },
    "tags": []
   },
   "source": [
    "## Download data (if needed)"
   ]
  },
  {
   "cell_type": "code",
   "execution_count": null,
   "metadata": {
    "ExecuteTime": {
     "end_time": "2020-10-03T17:07:10.727110Z",
     "start_time": "2020-10-03T17:07:10.724528Z"
    },
    "execution": {
     "iopub.execute_input": "2020-10-02T05:46:04.848892Z",
     "iopub.status.busy": "2020-10-02T05:46:04.847046Z",
     "iopub.status.idle": "2020-10-02T05:46:04.849626Z",
     "shell.execute_reply": "2020-10-02T05:46:04.850199Z"
    },
    "papermill": {
     "duration": 0.053404,
     "end_time": "2020-10-02T05:46:04.850329",
     "exception": false,
     "start_time": "2020-10-02T05:46:04.796925",
     "status": "completed"
    },
    "tags": []
   },
   "outputs": [],
   "source": [
    "# Download data & unzip if it doesn't already exist\n",
    "import os.path\n",
    "from io import BytesIO\n",
    "from urllib.request import urlopen\n",
    "from zipfile import ZipFile"
   ]
  },
  {
   "cell_type": "code",
   "execution_count": null,
   "metadata": {
    "ExecuteTime": {
     "end_time": "2020-10-03T17:07:10.732240Z",
     "start_time": "2020-10-03T17:07:10.729093Z"
    },
    "execution": {
     "iopub.execute_input": "2020-10-02T05:46:04.935175Z",
     "iopub.status.busy": "2020-10-02T05:46:04.93426Z",
     "iopub.status.idle": "2020-10-02T05:46:04.937283Z",
     "shell.execute_reply": "2020-10-02T05:46:04.936794Z"
    },
    "papermill": {
     "duration": 0.048974,
     "end_time": "2020-10-02T05:46:04.93739",
     "exception": false,
     "start_time": "2020-10-02T05:46:04.888416",
     "status": "completed"
    },
    "tags": []
   },
   "outputs": [],
   "source": [
    "def load_ext_file(data_zip_url, data_path='data/'):\n",
    "    '''Download the zip file from URL and extract it to path (if specified).\n",
    "    '''\n",
    "    # Check if path already exits\n",
    "    if not os.path.exists(data_path):\n",
    "        with urlopen(data_zip_url) as zip_resp:\n",
    "            with ZipFile(BytesIO(zip_resp.read())) as zfile:\n",
    "                # Extract files into the data directory\n",
    "                zfile.extractall(path=None)\n",
    "       "
   ]
  },
  {
   "cell_type": "code",
   "execution_count": null,
   "metadata": {
    "ExecuteTime": {
     "end_time": "2020-10-03T17:07:10.735754Z",
     "start_time": "2020-10-03T17:07:10.733747Z"
    },
    "execution": {
     "iopub.execute_input": "2020-10-02T05:46:05.037417Z",
     "iopub.status.busy": "2020-10-02T05:46:05.03653Z",
     "iopub.status.idle": "2020-10-02T05:46:20.735871Z",
     "shell.execute_reply": "2020-10-02T05:46:20.734881Z"
    },
    "papermill": {
     "duration": 15.759998,
     "end_time": "2020-10-02T05:46:20.736006",
     "exception": false,
     "start_time": "2020-10-02T05:46:04.976008",
     "status": "completed"
    },
    "tags": []
   },
   "outputs": [],
   "source": [
    "# Use particular release for data from a simulation run\n",
    "load_ext_file('https://github.com/MrGeislinger/clone-driving-behavior/releases/download/v0.8.0/data.zip')"
   ]
  },
  {
   "cell_type": "markdown",
   "metadata": {
    "papermill": {
     "duration": 0.045636,
     "end_time": "2020-10-02T05:46:20.818985",
     "exception": false,
     "start_time": "2020-10-02T05:46:20.773349",
     "status": "completed"
    },
    "tags": []
   },
   "source": [
    "## Read in log file"
   ]
  },
  {
   "cell_type": "code",
   "execution_count": null,
   "metadata": {
    "ExecuteTime": {
     "end_time": "2020-10-03T17:07:10.742677Z",
     "start_time": "2020-10-03T17:07:10.737350Z"
    },
    "execution": {
     "iopub.execute_input": "2020-10-02T05:46:21.028814Z",
     "iopub.status.busy": "2020-10-02T05:46:21.027783Z",
     "iopub.status.idle": "2020-10-02T05:46:21.029998Z",
     "shell.execute_reply": "2020-10-02T05:46:21.030521Z"
    },
    "papermill": {
     "duration": 0.049329,
     "end_time": "2020-10-02T05:46:21.030673",
     "exception": false,
     "start_time": "2020-10-02T05:46:20.981344",
     "status": "completed"
    },
    "tags": []
   },
   "outputs": [],
   "source": [
    "def create_img_meas_dfs(log_csv, data_dir=None, orig_dir=None, skiprows=None):\n",
    "    '''Creates DataFrames for the image paths and measurements using CSV path.\n",
    "    \n",
    "    Returns tuple of two DataFrames.\n",
    "    '''\n",
    "    data_header = [\n",
    "        'image_center',\n",
    "        'image_left',\n",
    "        'image_right',\n",
    "        'steer_angle', # [-1,1]\n",
    "        'throttle', # boolen (if accelerating)\n",
    "        'break', # boolean (if breaking)\n",
    "        'speed' # mph\n",
    "    ]\n",
    "\n",
    "    df = pd.read_csv(\n",
    "        log_csv,\n",
    "        names=data_header,\n",
    "        skiprows=skiprows\n",
    "    )\n",
    "\n",
    "    # Replace the original directory from dataset (if specified)\n",
    "    if orig_dir and data_dir:\n",
    "        for col in ['image_center','image_left','image_right']:\n",
    "            df[col] = df[col].str.replace(orig_dir,data_dir)\n",
    "    \n",
    "    # Get specifics for each DF\n",
    "    df_img_paths = df.iloc[:,:3]\n",
    "    df_measurments = df.iloc[:,3:]\n",
    "    \n",
    "    return df_img_paths,df_measurments, df"
   ]
  },
  {
   "cell_type": "code",
   "execution_count": null,
   "metadata": {
    "ExecuteTime": {
     "end_time": "2020-10-03T17:07:10.869965Z",
     "start_time": "2020-10-03T17:07:10.744561Z"
    },
    "execution": {
     "iopub.execute_input": "2020-10-02T05:46:21.112707Z",
     "iopub.status.busy": "2020-10-02T05:46:21.111699Z",
     "iopub.status.idle": "2020-10-02T05:46:21.188585Z",
     "shell.execute_reply": "2020-10-02T05:46:21.189074Z"
    },
    "papermill": {
     "duration": 0.122487,
     "end_time": "2020-10-02T05:46:21.189212",
     "exception": false,
     "start_time": "2020-10-02T05:46:21.066725",
     "status": "completed"
    },
    "tags": []
   },
   "outputs": [],
   "source": [
    "df_imgs, df_meas, df_all = create_img_meas_dfs(\n",
    "    log_csv='data/driving_log.csv', \n",
    "    skiprows=1)\n",
    "\n",
    "display(df_imgs.head())\n",
    "\n",
    "print('Stats for measurements:')\n",
    "display(df_meas.describe())"
   ]
  },
  {
   "cell_type": "markdown",
   "metadata": {
    "papermill": {
     "duration": 0.038174,
     "end_time": "2020-10-02T05:46:21.266349",
     "exception": false,
     "start_time": "2020-10-02T05:46:21.228175",
     "status": "completed"
    },
    "tags": []
   },
   "source": [
    "# Data Augmentation"
   ]
  },
  {
   "cell_type": "markdown",
   "metadata": {
    "papermill": {
     "duration": 0.038037,
     "end_time": "2020-10-02T05:46:21.341556",
     "exception": false,
     "start_time": "2020-10-02T05:46:21.303519",
     "status": "completed"
    },
    "tags": []
   },
   "source": [
    "We can do some data augmentation to the images to have more variety in the training material. We'll just do a horizontal flip here and only use the center images."
   ]
  },
  {
   "cell_type": "markdown",
   "metadata": {
    "papermill": {
     "duration": 0.037022,
     "end_time": "2020-10-02T05:46:21.415667",
     "exception": false,
     "start_time": "2020-10-02T05:46:21.378645",
     "status": "completed"
    },
    "tags": []
   },
   "source": [
    "## Attempt w/ `ImageDataGenerator`"
   ]
  },
  {
   "cell_type": "code",
   "execution_count": null,
   "metadata": {
    "ExecuteTime": {
     "end_time": "2020-10-03T17:07:10.874294Z",
     "start_time": "2020-10-03T17:07:10.872090Z"
    },
    "execution": {
     "iopub.execute_input": "2020-10-02T05:46:21.494954Z",
     "iopub.status.busy": "2020-10-02T05:46:21.494086Z",
     "iopub.status.idle": "2020-10-02T05:46:21.497179Z",
     "shell.execute_reply": "2020-10-02T05:46:21.496702Z"
    },
    "papermill": {
     "duration": 0.044982,
     "end_time": "2020-10-02T05:46:21.49728",
     "exception": false,
     "start_time": "2020-10-02T05:46:21.452298",
     "status": "completed"
    },
    "tags": []
   },
   "outputs": [],
   "source": [
    "# datagen = keras.preprocessing.image.ImageDataGenerator(\n",
    "#     horizontal_flip=True, validation_split=0.2)"
   ]
  },
  {
   "cell_type": "code",
   "execution_count": null,
   "metadata": {
    "ExecuteTime": {
     "end_time": "2020-10-03T17:07:10.879978Z",
     "start_time": "2020-10-03T17:07:10.876868Z"
    },
    "execution": {
     "iopub.execute_input": "2020-10-02T05:46:21.577397Z",
     "iopub.status.busy": "2020-10-02T05:46:21.576582Z",
     "iopub.status.idle": "2020-10-02T05:46:21.579747Z",
     "shell.execute_reply": "2020-10-02T05:46:21.579204Z"
    },
    "papermill": {
     "duration": 0.044448,
     "end_time": "2020-10-02T05:46:21.579851",
     "exception": false,
     "start_time": "2020-10-02T05:46:21.535403",
     "status": "completed"
    },
    "scrolled": true,
    "tags": []
   },
   "outputs": [],
   "source": [
    "# Only looking at center images \n",
    "# TODO: \n",
    "# Known issue for regression problems: https://github.com/keras-team/keras-preprocessing/issues/214\n",
    "# train_generator = datagen.flow(\n",
    "#     X_train[:,1,:], y=y_train, batch_size=64, shuffle=True, seed=27, subset='training'\n",
    "# )\n",
    "# valid_generator = datagen.flow(\n",
    "#     X_valid[:,1,:], y=y_valid, batch_size=64, shuffle=True, seed=27, subset='validation'\n",
    "# )"
   ]
  },
  {
   "cell_type": "markdown",
   "metadata": {
    "papermill": {
     "duration": 0.037614,
     "end_time": "2020-10-02T05:46:21.654421",
     "exception": false,
     "start_time": "2020-10-02T05:46:21.616807",
     "status": "completed"
    },
    "tags": []
   },
   "source": [
    "## Flip the image"
   ]
  },
  {
   "cell_type": "markdown",
   "metadata": {
    "papermill": {
     "duration": 0.038208,
     "end_time": "2020-10-02T05:46:21.731555",
     "exception": false,
     "start_time": "2020-10-02T05:46:21.693347",
     "status": "completed"
    },
    "tags": []
   },
   "source": [
    "We can flip the image and the steering angle to better generalize."
   ]
  },
  {
   "cell_type": "code",
   "execution_count": null,
   "metadata": {
    "ExecuteTime": {
     "end_time": "2020-10-03T17:07:10.885887Z",
     "start_time": "2020-10-03T17:07:10.882431Z"
    },
    "execution": {
     "iopub.execute_input": "2020-10-02T05:46:21.813459Z",
     "iopub.status.busy": "2020-10-02T05:46:21.812554Z",
     "iopub.status.idle": "2020-10-02T05:46:21.814822Z",
     "shell.execute_reply": "2020-10-02T05:46:21.815342Z"
    },
    "papermill": {
     "duration": 0.046337,
     "end_time": "2020-10-02T05:46:21.815459",
     "exception": false,
     "start_time": "2020-10-02T05:46:21.769122",
     "status": "completed"
    },
    "tags": []
   },
   "outputs": [],
   "source": [
    "def flip_image(image, target):\n",
    "    '''Horizontally flip image and target value.\n",
    "    '''\n",
    "    image_flipped = np.fliplr(image)\n",
    "    target_flipped = -target\n",
    "    return image_flipped, target_flipped\n",
    "    "
   ]
  },
  {
   "cell_type": "markdown",
   "metadata": {
    "papermill": {
     "duration": 0.037496,
     "end_time": "2020-10-02T05:46:21.890136",
     "exception": false,
     "start_time": "2020-10-02T05:46:21.85264",
     "status": "completed"
    },
    "tags": []
   },
   "source": [
    "## Adjust off-center images"
   ]
  },
  {
   "cell_type": "code",
   "execution_count": null,
   "metadata": {
    "ExecuteTime": {
     "end_time": "2020-10-03T17:07:10.892885Z",
     "start_time": "2020-10-03T17:07:10.888770Z"
    },
    "execution": {
     "iopub.execute_input": "2020-10-02T05:46:21.97205Z",
     "iopub.status.busy": "2020-10-02T05:46:21.970958Z",
     "iopub.status.idle": "2020-10-02T05:46:21.973901Z",
     "shell.execute_reply": "2020-10-02T05:46:21.973408Z"
    },
    "papermill": {
     "duration": 0.046051,
     "end_time": "2020-10-02T05:46:21.974003",
     "exception": false,
     "start_time": "2020-10-02T05:46:21.927952",
     "status": "completed"
    },
    "tags": []
   },
   "outputs": [],
   "source": [
    "def adjust_offcenter_image(image, target, correction: float = 1e-2,\n",
    "                                  img_camera_type: str = 'center'):\n",
    "    '''\n",
    "    img_camera_type: The type of camera image\n",
    "    target: The target value (to be adjusted)\n",
    "    '''\n",
    "    # TODO: Adjust the target slightly for off-center image\n",
    "    if img_camera_type == 'left':\n",
    "        new_target = target + correction\n",
    "    elif img_camera_type == 'right':\n",
    "        new_target = target - correction\n",
    "    # Don't make any correction if unknown or centere\n",
    "    else: \n",
    "        new_target = target\n",
    "    return image, new_target"
   ]
  },
  {
   "cell_type": "markdown",
   "metadata": {},
   "source": [
    "## Don't use some small steering values"
   ]
  },
  {
   "cell_type": "markdown",
   "metadata": {},
   "source": [
    "Since the data is biased towards to low steering (driving straight), randomly drop some of the data to discourage simply driving straight."
   ]
  },
  {
   "cell_type": "code",
   "execution_count": null,
   "metadata": {
    "ExecuteTime": {
     "end_time": "2020-10-03T17:07:10.898080Z",
     "start_time": "2020-10-03T17:07:10.894677Z"
    }
   },
   "outputs": [],
   "source": [
    "def skip_low_steering(steer_value, steer_threshold=0.05, drop_percent=0.2):\n",
    "    '''\n",
    "    '''\n",
    "    # Keep value if greater than threshold or by chance\n",
    "    return (np.abs(steer_value) > steer_threshold \n",
    "            or np.random.rand() > drop_percent)\n",
    "        "
   ]
  },
  {
   "cell_type": "markdown",
   "metadata": {
    "papermill": {
     "duration": 0.036182,
     "end_time": "2020-10-02T05:46:22.046772",
     "exception": false,
     "start_time": "2020-10-02T05:46:22.01059",
     "status": "completed"
    },
    "tags": []
   },
   "source": [
    "# Creating own generator to read data"
   ]
  },
  {
   "cell_type": "code",
   "execution_count": null,
   "metadata": {
    "ExecuteTime": {
     "end_time": "2020-10-01T15:14:51.505456Z",
     "start_time": "2020-10-01T15:14:51.496881Z"
    },
    "execution": {
     "iopub.execute_input": "2020-10-02T05:46:22.137515Z",
     "iopub.status.busy": "2020-10-02T05:46:22.136591Z",
     "iopub.status.idle": "2020-10-02T05:46:22.139724Z",
     "shell.execute_reply": "2020-10-02T05:46:22.139211Z"
    },
    "papermill": {
     "duration": 0.055349,
     "end_time": "2020-10-02T05:46:22.139829",
     "exception": false,
     "start_time": "2020-10-02T05:46:22.08448",
     "status": "completed"
    },
    "tags": []
   },
   "outputs": [],
   "source": [
    "def data_generator(X, y ,batch_size=64, center_only=True, data_dir='data/'):\n",
    "    '''\n",
    "    Generate a batch of training images and targets from a DataFrame.\n",
    "    \n",
    "    Inputs:\n",
    "        X: array-like of paths to images\n",
    "        y: array-like of targerts (in order of X)\n",
    "    '''\n",
    "    # Loop forever so the generator never terminates\n",
    "    while True:\n",
    "        # Shuffle the image paths and targets\n",
    "        X_final = []\n",
    "        y_final = []\n",
    "        X_shuffled, y_shuffled = sklearn.utils.shuffle(X, y, n_samples=batch_size)\n",
    "        # TODO: investigate speed of zipping\n",
    "        # We grab the first element since there is 1 column\n",
    "        for img_path,target in zip(X_shuffled,y_shuffled):\n",
    "            fname = data_dir+img_path\n",
    "            img = cv2.imread(fname[0])\n",
    "            # Skip specifically for the center image (still checks left/right)\n",
    "            if skip_low_steering(target[0]):\n",
    "                X_final.append(img)\n",
    "                y_final.append(target[0])\n",
    "            # Check if we should use all images or just center\n",
    "            if not center_only:\n",
    "                # Order: center, left, right\n",
    "                # Corret left image target & add image with target to array\n",
    "                img_l = cv2.imread(fname[1])\n",
    "                target_l = adjust_offcenter_image(img, target, 5e-2, 'left')\n",
    "                # Corret right image target & add image with target to array                \n",
    "                img_r = cv2.imread(fname[2])\n",
    "                target_r = adjust_offcenter_image(img, target, 5e-2, 'right')\n",
    "                # Check left and right images separately in case they're \n",
    "                # adjusted asymetrically\n",
    "                if skip_low_steering(target_l[0]):\n",
    "                    X_final.append(img_l)\n",
    "                    y_final.append(target_l[0])\n",
    "                if skip_low_steering(target_r[0]):\n",
    "                    X_final.append(img_r)\n",
    "                    y_final.append(target_r[0])\n",
    "                \n",
    "            # TODO: Augment/process data\n",
    "            # Use horizontally flipped images (new target)\n",
    "            img_flipped, target_flipped = flip_image(img,target)\n",
    "            X_final.append(img_flipped)\n",
    "            y_final.append(target_flipped[0])\n",
    "              \n",
    "        batch_x = np.array(X_final)\n",
    "        batch_y = np.array(y_final)\n",
    "        yield (batch_x, batch_y)"
   ]
  },
  {
   "cell_type": "markdown",
   "metadata": {
    "papermill": {
     "duration": 0.03688,
     "end_time": "2020-10-02T05:46:22.213978",
     "exception": false,
     "start_time": "2020-10-02T05:46:22.177098",
     "status": "completed"
    },
    "tags": []
   },
   "source": [
    "## Read in images by path from log file"
   ]
  },
  {
   "cell_type": "markdown",
   "metadata": {
    "papermill": {
     "duration": 0.036687,
     "end_time": "2020-10-02T05:46:22.287965",
     "exception": false,
     "start_time": "2020-10-02T05:46:22.251278",
     "status": "completed"
    },
    "tags": []
   },
   "source": [
    "We'll use the generator created above to read in images by a batch while training (and validating). But to ensure it works, let's test it out below."
   ]
  },
  {
   "cell_type": "code",
   "execution_count": null,
   "metadata": {
    "ExecuteTime": {
     "end_time": "2020-10-01T15:14:51.512735Z",
     "start_time": "2020-10-01T15:14:51.507905Z"
    },
    "execution": {
     "iopub.execute_input": "2020-10-02T05:46:22.371565Z",
     "iopub.status.busy": "2020-10-02T05:46:22.37066Z",
     "iopub.status.idle": "2020-10-02T05:46:22.373737Z",
     "shell.execute_reply": "2020-10-02T05:46:22.373249Z"
    },
    "papermill": {
     "duration": 0.047545,
     "end_time": "2020-10-02T05:46:22.373844",
     "exception": false,
     "start_time": "2020-10-02T05:46:22.326299",
     "status": "completed"
    },
    "tags": []
   },
   "outputs": [],
   "source": [
    "# Note the multiple images will keep the proper shape\n",
    "temp_generator = data_generator(\n",
    "    df_all[['image_center','image_left','image_right']].values,\n",
    "    df_all['steer_angle'].values.reshape(-1,1)\n",
    ")"
   ]
  },
  {
   "cell_type": "code",
   "execution_count": null,
   "metadata": {
    "ExecuteTime": {
     "end_time": "2020-10-01T15:14:51.666108Z",
     "start_time": "2020-10-01T15:14:51.514862Z"
    },
    "execution": {
     "iopub.execute_input": "2020-10-02T05:46:22.458272Z",
     "iopub.status.busy": "2020-10-02T05:46:22.457511Z",
     "iopub.status.idle": "2020-10-02T05:46:22.555249Z",
     "shell.execute_reply": "2020-10-02T05:46:22.554695Z"
    },
    "papermill": {
     "duration": 0.140149,
     "end_time": "2020-10-02T05:46:22.555358",
     "exception": false,
     "start_time": "2020-10-02T05:46:22.415209",
     "status": "completed"
    },
    "tags": []
   },
   "outputs": [],
   "source": [
    "imgs,targets = next(temp_generator)"
   ]
  },
  {
   "cell_type": "code",
   "execution_count": null,
   "metadata": {
    "ExecuteTime": {
     "end_time": "2020-10-01T15:14:52.190755Z",
     "start_time": "2020-10-01T15:14:51.667916Z"
    },
    "execution": {
     "iopub.execute_input": "2020-10-02T05:46:22.63743Z",
     "iopub.status.busy": "2020-10-02T05:46:22.636784Z",
     "iopub.status.idle": "2020-10-02T05:46:23.361371Z",
     "shell.execute_reply": "2020-10-02T05:46:23.361879Z"
    },
    "papermill": {
     "duration": 0.768396,
     "end_time": "2020-10-02T05:46:23.362014",
     "exception": false,
     "start_time": "2020-10-02T05:46:22.593618",
     "status": "completed"
    },
    "tags": []
   },
   "outputs": [],
   "source": [
    "# Test to see if image reading works\n",
    "import matplotlib.pyplot as plt\n",
    "\n",
    "f = plt.figure(figsize=(25,25))\n",
    "ax_left = f.add_subplot(1, 3, 1)\n",
    "ax_center = f.add_subplot(1, 3, 2)\n",
    "ax_right = f.add_subplot(1, 3, 3)\n",
    "\n",
    "\n",
    "# Print out three image examples\n",
    "ax_center.imshow(imgs[0])\n",
    "ax_left.imshow(imgs[1])\n",
    "ax_right.imshow(imgs[2])"
   ]
  },
  {
   "cell_type": "markdown",
   "metadata": {
    "papermill": {
     "duration": 0.075699,
     "end_time": "2020-10-02T05:46:23.49011",
     "exception": false,
     "start_time": "2020-10-02T05:46:23.414411",
     "status": "completed"
    },
    "tags": []
   },
   "source": [
    "## Split the data into training and validation"
   ]
  },
  {
   "cell_type": "code",
   "execution_count": null,
   "metadata": {
    "ExecuteTime": {
     "end_time": "2020-09-29T05:58:22.711616Z",
     "start_time": "2020-09-29T05:58:22.707767Z"
    },
    "execution": {
     "iopub.execute_input": "2020-10-02T05:46:23.651692Z",
     "iopub.status.busy": "2020-10-02T05:46:23.650789Z",
     "iopub.status.idle": "2020-10-02T05:46:23.655583Z",
     "shell.execute_reply": "2020-10-02T05:46:23.656511Z"
    },
    "papermill": {
     "duration": 0.08745,
     "end_time": "2020-10-02T05:46:23.656706",
     "exception": false,
     "start_time": "2020-10-02T05:46:23.569256",
     "status": "completed"
    },
    "tags": []
   },
   "outputs": [],
   "source": [
    "# Adjust the target for off-center images to be used in training\n",
    "X = df_all[['image_center','image_left','image_right']].values\n",
    "y = df_all[['steer_angle']].values"
   ]
  },
  {
   "cell_type": "code",
   "execution_count": null,
   "metadata": {
    "ExecuteTime": {
     "end_time": "2020-09-29T05:58:22.715653Z",
     "start_time": "2020-09-29T05:58:22.712779Z"
    },
    "execution": {
     "iopub.execute_input": "2020-10-02T05:46:23.811767Z",
     "iopub.status.busy": "2020-10-02T05:46:23.81094Z",
     "iopub.status.idle": "2020-10-02T05:46:23.816405Z",
     "shell.execute_reply": "2020-10-02T05:46:23.81732Z"
    },
    "papermill": {
     "duration": 0.086089,
     "end_time": "2020-10-02T05:46:23.817501",
     "exception": false,
     "start_time": "2020-10-02T05:46:23.731412",
     "status": "completed"
    },
    "tags": []
   },
   "outputs": [],
   "source": [
    "X_train, X_valid, y_train, y_valid = sklearn.model_selection.train_test_split(\n",
    "                                        X, y, test_size=0.2, random_state=27)"
   ]
  },
  {
   "cell_type": "markdown",
   "metadata": {
    "papermill": {
     "duration": 0.082082,
     "end_time": "2020-10-02T05:46:23.972697",
     "exception": false,
     "start_time": "2020-10-02T05:46:23.890615",
     "status": "completed"
    },
    "tags": []
   },
   "source": [
    "### Generators for both train and validation sets"
   ]
  },
  {
   "cell_type": "code",
   "execution_count": null,
   "metadata": {
    "ExecuteTime": {
     "end_time": "2020-09-29T05:58:22.718735Z",
     "start_time": "2020-09-29T05:58:22.716699Z"
    },
    "execution": {
     "iopub.execute_input": "2020-10-02T05:46:24.153701Z",
     "iopub.status.busy": "2020-10-02T05:46:24.152698Z",
     "iopub.status.idle": "2020-10-02T05:46:24.155146Z",
     "shell.execute_reply": "2020-10-02T05:46:24.15446Z"
    },
    "papermill": {
     "duration": 0.092456,
     "end_time": "2020-10-02T05:46:24.155273",
     "exception": false,
     "start_time": "2020-10-02T05:46:24.062817",
     "status": "completed"
    },
    "tags": []
   },
   "outputs": [],
   "source": [
    "train_generator = data_generator(X_train, y_train, batch_size=256)\n",
    "valid_generator = data_generator(X_valid, y_valid, batch_size=256)"
   ]
  },
  {
   "cell_type": "markdown",
   "metadata": {
    "papermill": {
     "duration": 0.054423,
     "end_time": "2020-10-02T05:46:24.316651",
     "exception": false,
     "start_time": "2020-10-02T05:46:24.262228",
     "status": "completed"
    },
    "tags": []
   },
   "source": [
    "# Model"
   ]
  },
  {
   "cell_type": "markdown",
   "metadata": {
    "papermill": {
     "duration": 0.073897,
     "end_time": "2020-10-02T05:46:24.46287",
     "exception": false,
     "start_time": "2020-10-02T05:46:24.388973",
     "status": "completed"
    },
    "tags": []
   },
   "source": [
    "## Using center images only"
   ]
  },
  {
   "cell_type": "markdown",
   "metadata": {
    "papermill": {
     "duration": 0.079721,
     "end_time": "2020-10-02T05:46:24.613848",
     "exception": false,
     "start_time": "2020-10-02T05:46:24.534127",
     "status": "completed"
    },
    "tags": []
   },
   "source": [
    "We'll try just using center images for training the model. If we simply put in the left and right images for the camera angle, we'd likely have issues with the model learning incorrect behavior. There are some techniques that could allow us to use these other images but for simplicity's sake we'll only use the center images for now."
   ]
  },
  {
   "cell_type": "code",
   "execution_count": null,
   "metadata": {
    "ExecuteTime": {
     "end_time": "2020-09-29T05:58:22.722187Z",
     "start_time": "2020-09-29T05:58:22.719776Z"
    },
    "execution": {
     "iopub.execute_input": "2020-10-02T05:46:24.726085Z",
     "iopub.status.busy": "2020-10-02T05:46:24.724252Z",
     "iopub.status.idle": "2020-10-02T05:46:24.726863Z",
     "shell.execute_reply": "2020-10-02T05:46:24.727364Z"
    },
    "papermill": {
     "duration": 0.057105,
     "end_time": "2020-10-02T05:46:24.727515",
     "exception": false,
     "start_time": "2020-10-02T05:46:24.67041",
     "status": "completed"
    },
    "tags": []
   },
   "outputs": [],
   "source": [
    "# Creating a resuable default convolution\n",
    "from functools import partial\n",
    "DefaultConv2D = partial(keras.layers.Conv2D, kernel_initializer='he_normal',\n",
    "                        kernel_size=3, activation='relu', padding='SAME')"
   ]
  },
  {
   "cell_type": "code",
   "execution_count": null,
   "metadata": {
    "ExecuteTime": {
     "end_time": "2020-09-29T05:58:22.725148Z",
     "start_time": "2020-09-29T05:58:22.723166Z"
    },
    "execution": {
     "iopub.execute_input": "2020-10-02T05:46:24.833393Z",
     "iopub.status.busy": "2020-10-02T05:46:24.832504Z",
     "iopub.status.idle": "2020-10-02T05:46:24.836765Z",
     "shell.execute_reply": "2020-10-02T05:46:24.836199Z"
    },
    "papermill": {
     "duration": 0.060185,
     "end_time": "2020-10-02T05:46:24.836887",
     "exception": false,
     "start_time": "2020-10-02T05:46:24.776702",
     "status": "completed"
    },
    "tags": []
   },
   "outputs": [],
   "source": [
    "input_shape = (160,320,3)"
   ]
  },
  {
   "cell_type": "code",
   "execution_count": null,
   "metadata": {
    "ExecuteTime": {
     "end_time": "2020-09-29T05:58:22.741841Z",
     "start_time": "2020-09-29T05:58:22.726187Z"
    },
    "execution": {
     "iopub.execute_input": "2020-10-02T05:46:24.951069Z",
     "iopub.status.busy": "2020-10-02T05:46:24.950349Z",
     "iopub.status.idle": "2020-10-02T05:46:24.985494Z",
     "shell.execute_reply": "2020-10-02T05:46:24.98503Z"
    },
    "papermill": {
     "duration": 0.096697,
     "end_time": "2020-10-02T05:46:24.985623",
     "exception": false,
     "start_time": "2020-10-02T05:46:24.888926",
     "status": "completed"
    },
    "tags": []
   },
   "outputs": [],
   "source": [
    "# Based on https://developer.nvidia.com/blog/deep-learning-self-driving-cars/\n",
    "model_list = [\n",
    "    # Normalize the images\n",
    "    keras.layers.Lambda(lambda x: (x/255.0) - 0.5, input_shape=input_shape),\n",
    "    DefaultConv2D(filters=24, kernel_size=5),\n",
    "    keras.layers.MaxPooling2D(pool_size=2),\n",
    "    DefaultConv2D(filters=36, kernel_size=5),\n",
    "    keras.layers.MaxPooling2D(pool_size=2), \n",
    "    keras.layers.Dropout(0.4),  # Dropout to regularize\n",
    "    DefaultConv2D(filters=48, kernel_size=5),\n",
    "    keras.layers.MaxPooling2D(pool_size=2),\n",
    "    DefaultConv2D(filters=64),\n",
    "    keras.layers.MaxPooling2D(pool_size=2),\n",
    "    keras.layers.Dropout(0.4),  # Dropout to regularize\n",
    "    # Fully connected network\n",
    "    keras.layers.Flatten(),\n",
    "    keras.layers.Dense(units=1024, activation='relu'),\n",
    "    keras.layers.Dropout(0.2),  # Dropout to regularize\n",
    "    keras.layers.Dense(units=128, activation='relu'),\n",
    "    keras.layers.Dropout(0.2),  # Dropout to regularize\n",
    "    keras.layers.Dense(units=64, activation='relu'),\n",
    "    keras.layers.Dense(units=16, activation='relu'),\n",
    "    keras.layers.Dense(units=1)\n",
    "]"
   ]
  },
  {
   "cell_type": "code",
   "execution_count": null,
   "metadata": {
    "ExecuteTime": {
     "end_time": "2020-09-29T05:58:22.747215Z",
     "start_time": "2020-09-29T05:58:22.7435Z"
    },
    "execution": {
     "iopub.execute_input": "2020-10-02T05:46:25.093225Z",
     "iopub.status.busy": "2020-10-02T05:46:25.092557Z",
     "iopub.status.idle": "2020-10-02T05:46:25.096565Z",
     "shell.execute_reply": "2020-10-02T05:46:25.097092Z"
    },
    "papermill": {
     "duration": 0.06101,
     "end_time": "2020-10-02T05:46:25.097226",
     "exception": false,
     "start_time": "2020-10-02T05:46:25.036216",
     "status": "completed"
    },
    "tags": []
   },
   "outputs": [],
   "source": [
    "# Adding in model to crop images first\n",
    "model_list = (\n",
    "    [model_list[0]] +\n",
    "    # Crop out \"unnecessary parts of the image\"\n",
    "    [keras.layers.Cropping2D(cropping=((60,20), (0,0)))] +\n",
    "    model_list[1:]\n",
    ")"
   ]
  },
  {
   "cell_type": "code",
   "execution_count": null,
   "metadata": {
    "ExecuteTime": {
     "end_time": "2020-09-29T05:58:22.856221Z",
     "start_time": "2020-09-29T05:58:22.749061Z"
    },
    "execution": {
     "iopub.execute_input": "2020-10-02T05:46:28.143525Z",
     "iopub.status.busy": "2020-10-02T05:46:28.142399Z",
     "iopub.status.idle": "2020-10-02T05:46:28.637628Z",
     "shell.execute_reply": "2020-10-02T05:46:28.636764Z"
    },
    "papermill": {
     "duration": 3.491533,
     "end_time": "2020-10-02T05:46:28.637752",
     "exception": false,
     "start_time": "2020-10-02T05:46:25.146219",
     "status": "completed"
    },
    "tags": []
   },
   "outputs": [],
   "source": [
    "model = keras.models.Sequential(model_list)"
   ]
  },
  {
   "cell_type": "code",
   "execution_count": null,
   "metadata": {
    "ExecuteTime": {
     "end_time": "2020-09-29T05:58:22.865408Z",
     "start_time": "2020-09-29T05:58:22.857562Z"
    },
    "execution": {
     "iopub.execute_input": "2020-10-02T05:46:28.754802Z",
     "iopub.status.busy": "2020-10-02T05:46:28.754136Z",
     "iopub.status.idle": "2020-10-02T05:46:28.764013Z",
     "shell.execute_reply": "2020-10-02T05:46:28.763271Z"
    },
    "papermill": {
     "duration": 0.071893,
     "end_time": "2020-10-02T05:46:28.764136",
     "exception": false,
     "start_time": "2020-10-02T05:46:28.692243",
     "status": "completed"
    },
    "tags": []
   },
   "outputs": [],
   "source": [
    "model.compile(\n",
    "    loss='mse', \n",
    "    optimizer='nadam'\n",
    ")"
   ]
  },
  {
   "cell_type": "code",
   "execution_count": null,
   "metadata": {
    "ExecuteTime": {
     "end_time": "2020-09-29T05:58:22.875585Z",
     "start_time": "2020-09-29T05:58:22.8683Z"
    },
    "execution": {
     "iopub.execute_input": "2020-10-02T05:46:28.871659Z",
     "iopub.status.busy": "2020-10-02T05:46:28.869704Z",
     "iopub.status.idle": "2020-10-02T05:46:28.884845Z",
     "shell.execute_reply": "2020-10-02T05:46:28.88567Z"
    },
    "papermill": {
     "duration": 0.072548,
     "end_time": "2020-10-02T05:46:28.885897",
     "exception": false,
     "start_time": "2020-10-02T05:46:28.813349",
     "status": "completed"
    },
    "scrolled": true,
    "tags": []
   },
   "outputs": [],
   "source": [
    "model.summary()"
   ]
  },
  {
   "cell_type": "code",
   "execution_count": null,
   "metadata": {
    "ExecuteTime": {
     "end_time": "2020-09-29T05:58:22.879684Z",
     "start_time": "2020-09-29T05:58:22.877399Z"
    },
    "execution": {
     "iopub.execute_input": "2020-10-02T05:46:29.006195Z",
     "iopub.status.busy": "2020-10-02T05:46:29.004211Z",
     "iopub.status.idle": "2020-10-02T05:46:29.006978Z",
     "shell.execute_reply": "2020-10-02T05:46:29.007447Z"
    },
    "papermill": {
     "duration": 0.058018,
     "end_time": "2020-10-02T05:46:29.007584",
     "exception": false,
     "start_time": "2020-10-02T05:46:28.949566",
     "status": "completed"
    },
    "tags": []
   },
   "outputs": [],
   "source": [
    "# Allow early stopping after not changing\n",
    "stop_after_no_change = keras.callbacks.EarlyStopping(\n",
    "    monitor='val_loss',\n",
    "    patience=16,\n",
    "    restore_best_weights=True\n",
    ")"
   ]
  },
  {
   "cell_type": "code",
   "execution_count": null,
   "metadata": {
    "ExecuteTime": {
     "end_time": "2020-09-29T06:38:24.027022Z",
     "start_time": "2020-09-29T05:58:22.880791Z"
    },
    "execution": {
     "iopub.execute_input": "2020-10-02T05:46:29.114263Z",
     "iopub.status.busy": "2020-10-02T05:46:29.113578Z",
     "iopub.status.idle": "2020-10-02T09:10:46.738837Z",
     "shell.execute_reply": "2020-10-02T09:10:46.739885Z"
    },
    "papermill": {
     "duration": 12257.682708,
     "end_time": "2020-10-02T09:10:46.740147",
     "exception": false,
     "start_time": "2020-10-02T05:46:29.057439",
     "status": "completed"
    },
    "scrolled": true,
    "tags": []
   },
   "outputs": [],
   "source": [
    "history = model.fit(\n",
    "    x=train_generator,\n",
    "    y=None, # Since using a generator\n",
    "    batch_size=None, # Since using a generator\n",
    "    epochs=250, # Large since we want to ensure we stop by early stopping\n",
    "    steps_per_epoch=128, # Ideal: steps*batch_size = # of images\n",
    "    validation_data=valid_generator,\n",
    "    validation_steps=32,\n",
    "    callbacks=[stop_after_no_change]\n",
    ")"
   ]
  },
  {
   "cell_type": "markdown",
   "metadata": {
    "papermill": {
     "duration": 7.881231,
     "end_time": "2020-10-02T09:11:02.572266",
     "exception": false,
     "start_time": "2020-10-02T09:10:54.691035",
     "status": "completed"
    },
    "tags": []
   },
   "source": [
    "### Evaluation"
   ]
  },
  {
   "cell_type": "code",
   "execution_count": null,
   "metadata": {
    "ExecuteTime": {
     "end_time": "2020-09-29T06:38:24.036131Z",
     "start_time": "2020-09-29T06:38:24.028277Z"
    },
    "execution": {
     "iopub.execute_input": "2020-10-02T09:11:18.801512Z",
     "iopub.status.busy": "2020-10-02T09:11:18.800506Z",
     "iopub.status.idle": "2020-10-02T09:11:18.809594Z",
     "shell.execute_reply": "2020-10-02T09:11:18.809012Z"
    },
    "papermill": {
     "duration": 7.776819,
     "end_time": "2020-10-02T09:11:18.809745",
     "exception": false,
     "start_time": "2020-10-02T09:11:11.032926",
     "status": "completed"
    },
    "tags": []
   },
   "outputs": [],
   "source": [
    "import matplotlib.pyplot as plt\n",
    "%matplotlib inline \n",
    "\n",
    "def eval_model(model, model_history, X, y, show=True):\n",
    "    '''\n",
    "    '''\n",
    "    score = model.evaluate(X, y)\n",
    "    print(f'Loss: {score:.2f}')\n",
    "\n",
    "    if show:\n",
    "        plt.plot(model_history.history['loss'], label='Loss (training data)')\n",
    "        plt.plot(model_history.history['val_loss'], label='Loss (validation data)')\n",
    "        plt.ylabel('Loss')\n",
    "        plt.xlabel('Epoch')\n",
    "        plt.legend(loc='upper right')\n",
    "        plt.show()"
   ]
  },
  {
   "cell_type": "markdown",
   "metadata": {
    "papermill": {
     "duration": 8.529449,
     "end_time": "2020-10-02T09:11:35.177214",
     "exception": false,
     "start_time": "2020-10-02T09:11:26.647765",
     "status": "completed"
    },
    "tags": []
   },
   "source": [
    "Let's checkout how the previous model turned while training."
   ]
  },
  {
   "cell_type": "code",
   "execution_count": null,
   "metadata": {
    "ExecuteTime": {
     "end_time": "2020-09-29T06:39:55.520013Z",
     "start_time": "2020-09-29T06:39:54.694591Z"
    },
    "execution": {
     "iopub.execute_input": "2020-10-02T09:11:52.391764Z",
     "iopub.status.busy": "2020-10-02T09:11:52.390692Z",
     "iopub.status.idle": "2020-10-02T09:11:52.954278Z",
     "shell.execute_reply": "2020-10-02T09:11:52.953165Z"
    },
    "papermill": {
     "duration": 9.059008,
     "end_time": "2020-10-02T09:11:52.954431",
     "exception": false,
     "start_time": "2020-10-02T09:11:43.895423",
     "status": "completed"
    },
    "tags": []
   },
   "outputs": [],
   "source": [
    "test_generator = data_generator(X_valid, y_valid, batch_size=64)\n",
    "X_test, y_test = next(test_generator)\n",
    "eval_model(model, history, X_test, y_test)"
   ]
  },
  {
   "cell_type": "code",
   "execution_count": null,
   "metadata": {
    "execution": {
     "iopub.execute_input": "2020-10-02T09:12:11.375781Z",
     "iopub.status.busy": "2020-10-02T09:12:11.37417Z",
     "iopub.status.idle": "2020-10-02T09:12:11.559171Z",
     "shell.execute_reply": "2020-10-02T09:12:11.559758Z"
    },
    "papermill": {
     "duration": 9.772113,
     "end_time": "2020-10-02T09:12:11.559913",
     "exception": false,
     "start_time": "2020-10-02T09:12:01.7878",
     "status": "completed"
    },
    "scrolled": true,
    "tags": []
   },
   "outputs": [],
   "source": [
    "# Ignore the first epoch since it's typically very high compared to the rest\n",
    "plt.plot(history.history['loss'][1:], label='Loss (training data)')\n",
    "plt.plot(history.history['val_loss'][1:], label='Loss (validation data)')\n",
    "plt.ylabel('Loss')\n",
    "plt.xlabel('Epoch')\n",
    "plt.legend(loc='upper right')\n",
    "plt.show()"
   ]
  },
  {
   "cell_type": "code",
   "execution_count": null,
   "metadata": {
    "ExecuteTime": {
     "end_time": "2020-09-29T06:39:58.339414Z",
     "start_time": "2020-09-29T06:39:58.205548Z"
    },
    "execution": {
     "iopub.execute_input": "2020-10-02T09:12:29.083844Z",
     "iopub.status.busy": "2020-10-02T09:12:29.083124Z",
     "iopub.status.idle": "2020-10-02T09:12:29.281913Z",
     "shell.execute_reply": "2020-10-02T09:12:29.281318Z"
    },
    "papermill": {
     "duration": 8.840416,
     "end_time": "2020-10-02T09:12:29.282037",
     "exception": false,
     "start_time": "2020-10-02T09:12:20.441621",
     "status": "completed"
    },
    "tags": []
   },
   "outputs": [],
   "source": [
    "model.save('model.h5')"
   ]
  },
  {
   "cell_type": "code",
   "execution_count": null,
   "metadata": {
    "execution": {
     "iopub.execute_input": "2020-10-02T09:12:46.908311Z",
     "iopub.status.busy": "2020-10-02T09:12:46.9074Z",
     "iopub.status.idle": "2020-10-02T09:12:48.294051Z",
     "shell.execute_reply": "2020-10-02T09:12:48.294983Z"
    },
    "papermill": {
     "duration": 10.335102,
     "end_time": "2020-10-02T09:12:48.295156",
     "exception": false,
     "start_time": "2020-10-02T09:12:37.960054",
     "status": "completed"
    },
    "tags": []
   },
   "outputs": [],
   "source": [
    "# Clean up the data downloaded (not needed for output)\n",
    "!rm -rf data/"
   ]
  },
  {
   "cell_type": "code",
   "execution_count": null,
   "metadata": {},
   "outputs": [],
   "source": [
    "!rm -rf _MACOSX/"
   ]
  }
 ],
 "metadata": {
  "kernelspec": {
   "display_name": "Python 3",
   "language": "python",
   "name": "python3"
  },
  "language_info": {
   "codemirror_mode": {
    "name": "ipython",
    "version": 3
   },
   "file_extension": ".py",
   "mimetype": "text/x-python",
   "name": "python",
   "nbconvert_exporter": "python",
   "pygments_lexer": "ipython3",
   "version": "3.7.9"
  },
  "toc": {
   "base_numbering": 1,
   "nav_menu": {},
   "number_sections": true,
   "sideBar": false,
   "skip_h1_title": false,
   "title_cell": "Table of Contents",
   "title_sidebar": "Contents",
   "toc_cell": true,
   "toc_position": {},
   "toc_section_display": true,
   "toc_window_display": false
  },
  "varInspector": {
   "cols": {
    "lenName": 16,
    "lenType": 16,
    "lenVar": 40
   },
   "kernels_config": {
    "python": {
     "delete_cmd_postfix": "",
     "delete_cmd_prefix": "del ",
     "library": "var_list.py",
     "varRefreshCmd": "print(var_dic_list())"
    },
    "r": {
     "delete_cmd_postfix": ") ",
     "delete_cmd_prefix": "rm(",
     "library": "var_list.r",
     "varRefreshCmd": "cat(var_dic_list()) "
    }
   },
   "types_to_exclude": [
    "module",
    "function",
    "builtin_function_or_method",
    "instance",
    "_Feature"
   ],
   "window_display": false
  }
 },
 "nbformat": 4,
 "nbformat_minor": 4
}
