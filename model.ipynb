{
 "cells": [
  {
   "cell_type": "markdown",
   "metadata": {
    "toc": true
   },
   "source": [
    "<h1>Table of Contents<span class=\"tocSkip\"></span></h1>\n",
    "<div class=\"toc\"><ul class=\"toc-item\"><li><span><a href=\"#Load-the-Data\" data-toc-modified-id=\"Load-the-Data-1\"><span class=\"toc-item-num\">1&nbsp;&nbsp;</span>Load the Data</a></span><ul class=\"toc-item\"><li><span><a href=\"#Download-data-(if-needed)\" data-toc-modified-id=\"Download-data-(if-needed)-1.1\"><span class=\"toc-item-num\">1.1&nbsp;&nbsp;</span>Download data (if needed)</a></span></li><li><span><a href=\"#Read-in-log-file\" data-toc-modified-id=\"Read-in-log-file-1.2\"><span class=\"toc-item-num\">1.2&nbsp;&nbsp;</span>Read in log file</a></span></li><li><span><a href=\"#Read-in-images-by-path-from-log-file\" data-toc-modified-id=\"Read-in-images-by-path-from-log-file-1.3\"><span class=\"toc-item-num\">1.3&nbsp;&nbsp;</span>Read in images by path from log file</a></span></li></ul></li><li><span><a href=\"#Model\" data-toc-modified-id=\"Model-2\"><span class=\"toc-item-num\">2&nbsp;&nbsp;</span>Model</a></span><ul class=\"toc-item\"><li><span><a href=\"#Using-center-images-only\" data-toc-modified-id=\"Using-center-images-only-2.1\"><span class=\"toc-item-num\">2.1&nbsp;&nbsp;</span>Using center images only</a></span><ul class=\"toc-item\"><li><span><a href=\"#Evaluation\" data-toc-modified-id=\"Evaluation-2.1.1\"><span class=\"toc-item-num\">2.1.1&nbsp;&nbsp;</span>Evaluation</a></span></li></ul></li></ul></li></ul></div>"
   ]
  },
  {
   "cell_type": "code",
   "execution_count": null,
   "metadata": {
    "ExecuteTime": {
     "end_time": "2020-09-23T05:27:43.089009Z",
     "start_time": "2020-09-23T05:27:42.142235Z"
    }
   },
   "outputs": [],
   "source": [
    "import pandas as pd\n",
    "import numpy as np\n",
    "import cv2"
   ]
  },
  {
   "cell_type": "markdown",
   "metadata": {},
   "source": [
    "# Load the Data"
   ]
  },
  {
   "cell_type": "markdown",
   "metadata": {},
   "source": [
    "We'll load the log data & also load the images (found in the log file)."
   ]
  },
  {
   "cell_type": "markdown",
   "metadata": {},
   "source": [
    "## Download data (if needed)"
   ]
  },
  {
   "cell_type": "code",
   "execution_count": null,
   "metadata": {
    "ExecuteTime": {
     "end_time": "2020-09-23T05:27:43.093105Z",
     "start_time": "2020-09-23T05:27:43.090645Z"
    }
   },
   "outputs": [],
   "source": [
    "# Download data & unzip if it doesn't already exist\n",
    "import os.path\n",
    "from io import BytesIO\n",
    "from urllib.request import urlopen\n",
    "from zipfile import ZipFile"
   ]
  },
  {
   "cell_type": "code",
   "execution_count": null,
   "metadata": {
    "ExecuteTime": {
     "end_time": "2020-09-23T05:27:43.099230Z",
     "start_time": "2020-09-23T05:27:43.094858Z"
    }
   },
   "outputs": [],
   "source": [
    "def load_ext_file(data_zip_url, data_path='data/'):\n",
    "    '''Download the zip file from URL and extract it to path (if specified).\n",
    "    '''\n",
    "    # Check if path already exits\n",
    "    if not os.path.exists(data_path):\n",
    "        with urlopen(data_zip_url) as zip_resp:\n",
    "            with ZipFile(BytesIO(zip_resp.read())) as zfile:\n",
    "                # Extract files into the data directory\n",
    "                zfile.extractall(path=None)\n",
    "       "
   ]
  },
  {
   "cell_type": "code",
   "execution_count": null,
   "metadata": {
    "ExecuteTime": {
     "end_time": "2020-09-23T05:27:43.104376Z",
     "start_time": "2020-09-23T05:27:43.101396Z"
    }
   },
   "outputs": [],
   "source": [
    "# Zip file contains the \"data\" and \"__MACOSX\" directories\n",
    "load_ext_file(\n",
    "    'https://d17h27t6h515a5.cloudfront.net/topher/2016/December/584f6edd_data/data.zip',\n",
    "    data_path='data/'\n",
    ")"
   ]
  },
  {
   "cell_type": "markdown",
   "metadata": {},
   "source": [
    "## Read in log file"
   ]
  },
  {
   "cell_type": "code",
   "execution_count": null,
   "metadata": {
    "ExecuteTime": {
     "end_time": "2020-09-23T05:27:43.111898Z",
     "start_time": "2020-09-23T05:27:43.106968Z"
    }
   },
   "outputs": [],
   "source": [
    "def create_img_meas_dfs(log_csv, data_dir=None, orig_dir=None, skiprows=None):\n",
    "    '''Creates DataFrames for the image paths and measurements using CSV path.\n",
    "    \n",
    "    Returns tuple of two DataFrames.\n",
    "    '''\n",
    "    data_header = [\n",
    "        'image_center',\n",
    "        'image_left',\n",
    "        'image_right',\n",
    "        'steer_angle', # [-1,1]\n",
    "        'throttle', # boolen (if accelerating)\n",
    "        'break', # boolean (if breaking)\n",
    "        'speed' # mph\n",
    "    ]\n",
    "\n",
    "    df = pd.read_csv(\n",
    "        log_csv,\n",
    "        names=data_header,\n",
    "        skiprows=skiprows\n",
    "    )\n",
    "\n",
    "    # Replace the original directory from dataset (if specified)\n",
    "    if orig_dir and data_dir:\n",
    "        for col in ['image_center','image_left','image_right']:\n",
    "            df[col] = df[col].str.replace(orig_dir,data_dir)\n",
    "    \n",
    "    # Get specifics for each DF\n",
    "    df_img_paths = df.iloc[:,:3]\n",
    "    df_measurments = df.iloc[:,3:]\n",
    "    \n",
    "    return df_img_paths,df_measurments"
   ]
  },
  {
   "cell_type": "code",
   "execution_count": null,
   "metadata": {
    "ExecuteTime": {
     "end_time": "2020-09-23T05:27:43.186467Z",
     "start_time": "2020-09-23T05:27:43.114059Z"
    }
   },
   "outputs": [],
   "source": [
    "df_imgs, df_meas = create_img_meas_dfs(log_csv='data/driving_log.csv',skiprows=1)\n",
    "\n",
    "display(df_imgs.head())\n",
    "\n",
    "print('Stats for measurements:')\n",
    "display(df_meas.describe())"
   ]
  },
  {
   "cell_type": "markdown",
   "metadata": {},
   "source": [
    "## Read in images by path from log file"
   ]
  },
  {
   "cell_type": "code",
   "execution_count": null,
   "metadata": {
    "ExecuteTime": {
     "end_time": "2020-09-23T05:28:13.690499Z",
     "start_time": "2020-09-23T05:27:43.187866Z"
    }
   },
   "outputs": [],
   "source": [
    "center_images = []\n",
    "left_images = []\n",
    "right_images = []\n",
    "\n",
    "# TODO: Fix since this is a slow and inefficient process\n",
    "# Iterate over the different images\n",
    "data_dir = 'data/'\n",
    "for index,row in df_imgs.iterrows():\n",
    "    center_images.append(cv2.imread(data_dir+row['image_center'].strip()))\n",
    "    left_images.append(cv2.imread(data_dir+row['image_left'].strip()))\n",
    "    right_images.append(cv2.imread(data_dir+row['image_right'].strip()))"
   ]
  },
  {
   "cell_type": "code",
   "execution_count": null,
   "metadata": {
    "ExecuteTime": {
     "end_time": "2020-09-23T05:29:01.357522Z",
     "start_time": "2020-09-23T05:29:00.863269Z"
    }
   },
   "outputs": [],
   "source": [
    "# Test to see if image reading works\n",
    "import matplotlib.pyplot as plt\n",
    "\n",
    "# sub\n",
    "f = plt.figure(figsize=(25,25))\n",
    "ax_left = f.add_subplot(1, 3, 1)\n",
    "ax_center = f.add_subplot(1, 3, 2)\n",
    "ax_right = f.add_subplot(1, 3, 3)\n",
    "\n",
    "ax_center.imshow(center_images[0])\n",
    "ax_left.imshow(left_images[0])\n",
    "ax_right.imshow(right_images[0])"
   ]
  },
  {
   "cell_type": "markdown",
   "metadata": {},
   "source": [
    "# Model"
   ]
  },
  {
   "cell_type": "code",
   "execution_count": 4,
   "metadata": {
    "ExecuteTime": {
     "end_time": "2020-09-25T05:04:47.285685Z",
     "start_time": "2020-09-25T05:04:47.283340Z"
    }
   },
   "outputs": [],
   "source": [
    "import tensorflow.keras as keras"
   ]
  },
  {
   "cell_type": "markdown",
   "metadata": {},
   "source": [
    "## Using center images only"
   ]
  },
  {
   "cell_type": "markdown",
   "metadata": {},
   "source": [
    "We'll try just using center images for training the model. If we simply put in the left and right images for the camera angle, we'd likely have issues with the model learning incorrect behavior. There are some techniques that could allow us to use these other images but for simplicity's sake we'll only use the center images for now."
   ]
  },
  {
   "cell_type": "code",
   "execution_count": 5,
   "metadata": {
    "ExecuteTime": {
     "end_time": "2020-09-25T05:04:49.707367Z",
     "start_time": "2020-09-25T05:04:49.704408Z"
    }
   },
   "outputs": [],
   "source": [
    "# Creating a resuable default convolution\n",
    "from functools import partial\n",
    "DefaultConv2D = partial(keras.layers.Conv2D, kernel_initializer='he_normal',\n",
    "                        kernel_size=3, activation='relu', padding='SAME')"
   ]
  },
  {
   "cell_type": "code",
   "execution_count": null,
   "metadata": {
    "ExecuteTime": {
     "end_time": "2020-09-23T05:29:40.707186Z",
     "start_time": "2020-09-23T05:29:40.702235Z"
    }
   },
   "outputs": [],
   "source": [
    "input_shape = center_images[0].shape"
   ]
  },
  {
   "cell_type": "code",
   "execution_count": null,
   "metadata": {},
   "outputs": [],
   "source": [
    "# Based on https://developer.nvidia.com/blog/deep-learning-self-driving-cars/\n",
    "model_list = [\n",
    "    # Normalize the images\n",
    "    keras.layers.Lambda(lambda x: (x/255.0) - 0.5, input_shape=input_shape),\n",
    "    DefaultConv2D(filters=24, kernel_size=5, stride=2),\n",
    "    keras.layers.MaxPooling2D(pool_size=2),\n",
    "    DefaultConv2D(filters=36, kernel_size=5),\n",
    "    keras.layers.MaxPooling2D(pool_size=2), \n",
    "    DefaultConv2D(filters=48),\n",
    "    keras.layers.MaxPooling2D(pool_size=2),\n",
    "    DefaultConv2D(filters=64),\n",
    "    keras.layers.MaxPooling2D(pool_size=2),\n",
    "    # Fully connected network\n",
    "    keras.layers.Flatten(),\n",
    "    keras.layers.Dense(units=1024, activation='relu'),\n",
    "    keras.layers.Dropout(0.2),  # Dropout to regularize\n",
    "    keras.layers.Dense(units=128, activation='relu'),\n",
    "    keras.layers.Dropout(0.2),  # Dropout to regularize\n",
    "    keras.layers.Dense(units=64, activation='relu'),\n",
    "    keras.layers.Dropout(0.2),  # Dropout to regularize\n",
    "    keras.layers.Dense(units=16, activation='relu'),\n",
    "    keras.layers.Dense(units=1)\n",
    "]"
   ]
  },
  {
   "cell_type": "code",
   "execution_count": null,
   "metadata": {},
   "outputs": [],
   "source": [
    "# Adding in model to crop images first\n",
    "model_list = (\n",
    "    [model_list[0]] +\n",
    "    # Crop out \"unnessary images\"\n",
    "    [keras.layers.Cropping2D(cropping=((60,20), (0,0)))] +\n",
    "    model_list[1:]\n",
    ")"
   ]
  },
  {
   "cell_type": "code",
   "execution_count": null,
   "metadata": {
    "ExecuteTime": {
     "end_time": "2020-09-23T05:33:53.291109Z",
     "start_time": "2020-09-23T05:33:53.255392Z"
    }
   },
   "outputs": [],
   "source": [
    "model = keras.models.Sequential(model_list)"
   ]
  },
  {
   "cell_type": "code",
   "execution_count": null,
   "metadata": {
    "ExecuteTime": {
     "end_time": "2020-09-23T05:34:05.326858Z",
     "start_time": "2020-09-23T05:34:05.280099Z"
    }
   },
   "outputs": [],
   "source": [
    "model.compile(\n",
    "    loss='mse', \n",
    "    optimizer='nadam'\n",
    ")"
   ]
  },
  {
   "cell_type": "code",
   "execution_count": null,
   "metadata": {
    "ExecuteTime": {
     "end_time": "2020-09-23T05:34:17.052529Z",
     "start_time": "2020-09-23T05:34:17.036155Z"
    },
    "scrolled": true
   },
   "outputs": [],
   "source": [
    "model.summary()"
   ]
  },
  {
   "cell_type": "code",
   "execution_count": null,
   "metadata": {
    "ExecuteTime": {
     "end_time": "2020-09-23T05:35:47.278515Z",
     "start_time": "2020-09-23T05:35:47.275840Z"
    }
   },
   "outputs": [],
   "source": [
    "# Only using center images for now\n",
    "X = np.array(center_images)\n",
    "y = df_meas['steer_angle'].values.reshape(-1,1)"
   ]
  },
  {
   "cell_type": "code",
   "execution_count": null,
   "metadata": {
    "ExecuteTime": {
     "end_time": "2020-09-23T05:36:22.646073Z",
     "start_time": "2020-09-23T05:35:59.668879Z"
    }
   },
   "outputs": [],
   "source": [
    "# Allow early stopping after not changing significantly\n",
    "stop_after_5_no_change = keras.callbacks.EarlyStopping(\n",
    "    monitor='val_loss',\n",
    "    min_delta=0.001,\n",
    "    patience=5,\n",
    "    restore_best_weights=True\n",
    ")\n",
    "\n",
    "history = model.fit(\n",
    "    X,\n",
    "    y, \n",
    "    epochs=30, \n",
    "    validation_split=0.2,\n",
    "    callbacks=[stop_after_5_no_change]\n",
    ")"
   ]
  },
  {
   "cell_type": "markdown",
   "metadata": {},
   "source": [
    "### Evaluation"
   ]
  },
  {
   "cell_type": "code",
   "execution_count": 3,
   "metadata": {
    "ExecuteTime": {
     "end_time": "2020-09-25T04:21:39.773660Z",
     "start_time": "2020-09-25T04:21:39.445268Z"
    }
   },
   "outputs": [],
   "source": [
    "import matplotlib.pyplot as plt\n",
    "%matplotlib inline \n",
    "\n",
    "def eval_model(model, model_history, X, y, show=True):\n",
    "    '''\n",
    "    '''\n",
    "    score = model.evaluate(X, y)\n",
    "    print(f'Loss: {score:.2f}')\n",
    "\n",
    "    if show:\n",
    "        plt.plot(model_history.history['loss'], label='Loss (training data)')\n",
    "        plt.plot(model_history.history['val_loss'], label='Loss (validation data)')\n",
    "        plt.ylabel('Loss')\n",
    "        plt.xlabel('Epoch')\n",
    "        plt.legend(loc='upper right')\n",
    "        plt.show()"
   ]
  },
  {
   "cell_type": "markdown",
   "metadata": {},
   "source": [
    "Let's checkout how the previous model turned while training."
   ]
  },
  {
   "cell_type": "code",
   "execution_count": null,
   "metadata": {},
   "outputs": [],
   "source": [
    "eval_model(model, history, X, y)"
   ]
  },
  {
   "cell_type": "code",
   "execution_count": null,
   "metadata": {},
   "outputs": [],
   "source": [
    "model.save('model.h5')"
   ]
  }
 ],
 "metadata": {
  "kernelspec": {
   "display_name": "Python 3",
   "language": "python",
   "name": "python3"
  },
  "language_info": {
   "codemirror_mode": {
    "name": "ipython",
    "version": 3
   },
   "file_extension": ".py",
   "mimetype": "text/x-python",
   "name": "python",
   "nbconvert_exporter": "python",
   "pygments_lexer": "ipython3",
   "version": "3.8.1"
  },
  "toc": {
   "base_numbering": 1,
   "nav_menu": {},
   "number_sections": true,
   "sideBar": false,
   "skip_h1_title": false,
   "title_cell": "Table of Contents",
   "title_sidebar": "Contents",
   "toc_cell": true,
   "toc_position": {},
   "toc_section_display": true,
   "toc_window_display": false
  },
  "varInspector": {
   "cols": {
    "lenName": 16,
    "lenType": 16,
    "lenVar": 40
   },
   "kernels_config": {
    "python": {
     "delete_cmd_postfix": "",
     "delete_cmd_prefix": "del ",
     "library": "var_list.py",
     "varRefreshCmd": "print(var_dic_list())"
    },
    "r": {
     "delete_cmd_postfix": ") ",
     "delete_cmd_prefix": "rm(",
     "library": "var_list.r",
     "varRefreshCmd": "cat(var_dic_list()) "
    }
   },
   "types_to_exclude": [
    "module",
    "function",
    "builtin_function_or_method",
    "instance",
    "_Feature"
   ],
   "window_display": false
  }
 },
 "nbformat": 4,
 "nbformat_minor": 4
}
